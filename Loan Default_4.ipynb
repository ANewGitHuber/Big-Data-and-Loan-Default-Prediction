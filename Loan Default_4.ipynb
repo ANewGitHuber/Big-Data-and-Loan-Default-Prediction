{
 "cells": [
  {
   "cell_type": "code",
   "execution_count": 120,
   "id": "0e0dc808",
   "metadata": {
    "scrolled": true
   },
   "outputs": [],
   "source": [
    "# import libraries\n",
    "\n",
    "# handle dataset \n",
    "import pandas as pd\n",
    "import numpy as np\n",
    "import matplotlib.pyplot as plt\n",
    "import seaborn as sns\n",
    "import plotly.express as px\n",
    "\n",
    "from sklearn.model_selection import KFold\n",
    "from sklearn.linear_model import LogisticRegression,LinearRegression, Lasso, Ridge\n",
    "from sklearn.metrics import recall_score, precision_score, f1_score\n",
    "from sklearn.ensemble import RandomForestClassifier\n",
    "from sklearn.model_selection import GridSearchCV, train_test_split\n",
    "from sklearn.metrics import recall_score, precision_score, f1_score, accuracy_score\n",
    "from sklearn.neighbors import KNeighborsClassifier\n",
    "from sklearn.preprocessing import StandardScaler\n",
    "\n",
    "\n",
    "from tabulate import tabulate\n",
    "\n",
    "from sklearn import linear_model\n",
    "\n",
    "from imblearn.over_sampling import SMOTE\n",
    "# if there is an error, solve by downgrading to install scikit-learn==1.2.2 \n",
    "# ''' steps : \n",
    "# 1. install pip \n",
    "# 2. uninstall sci-kit \n",
    "# 3. uninstall imblearn\n",
    "# 4. install sci-kit 1.2.2 \n",
    "# 5. install imblearn \n",
    "# '''\n",
    "\n",
    "\n",
    "# Data set from https://www.kaggle.com/datasets/yasserh/loan-default-dataset/data"
   ]
  },
  {
   "cell_type": "code",
   "execution_count": 121,
   "id": "2915229e",
   "metadata": {},
   "outputs": [
    {
     "name": "stdout",
     "output_type": "stream",
     "text": [
      "Number of rows :  120635\n",
      "Index(['loan_limit', 'Gender', 'approv_in_adv', 'Credit_Worthiness',\n",
      "       'business_or_commercial', 'loan_amount', 'term', 'Neg_ammortization',\n",
      "       'interest_only', 'lump_sum_payment', 'property_value', 'occupancy_type',\n",
      "       'income', 'credit_type', 'Credit_Score', 'co-applicant_credit_type',\n",
      "       'age', 'submission_of_application', 'LTV', 'Region', 'Status', 'dtir1'],\n",
      "      dtype='object')\n",
      "Status\n",
      "0    100978\n",
      "1     19657\n",
      "Name: count, dtype: int64\n"
     ]
    }
   ],
   "source": [
    "# split train test dataset \n",
    "\n",
    "df = pd.read_csv('Loan_Default.csv')\n",
    "# remove some variables that are redundant \n",
    "# year, ID\n",
    "# Interest_rate_spread and rate_of_interest are dropped due to the fact that their values are NA where the loan has defaulted \n",
    "# open credit , secured by, total units : only has one value or too few observations \n",
    "df = df.drop(['year', 'ID', 'loan_type', 'loan_purpose', 'Interest_rate_spread', \n",
    "              'rate_of_interest', 'open_credit','Upfront_charges','construction_type', \n",
    "              'Secured_by', 'Security_Type','total_units'], axis=1)\n",
    "# print(df['Status'].value_counts())\n",
    "# print(df.isna().sum())\n",
    "\n",
    "# Assumption 2 : We focus on mortgage loans \n",
    "df = df.dropna(subset=[\"property_value\"])\n",
    "# Assumption 3 : drop approv in adv that is NA (only small set of samples)\n",
    "df = df.dropna(subset=[\"term\"])\n",
    "df = df.dropna(subset=[\"loan_limit\"])\n",
    "df = df.dropna(subset=[\"approv_in_adv\"])\n",
    "df = df.dropna(subset=[\"Neg_ammortization\"])\n",
    "df = df.dropna(subset=[\"income\"])\n",
    "# Drop rows where sex is not available \n",
    "df = df.drop(df[df['Gender'] == 'Not Available'].index)\n",
    "\n",
    "\n",
    "print(\"Number of rows : \" , len(df.index))\n",
    "# LTV = Loan to Value -> compares the loan value to the value of the asset being purchased as a part of the loan \n",
    "# Property Value \n",
    "\n",
    "print(df.columns)\n",
    "print(df['Status'].value_counts())\n",
    "\n",
    "      \n"
   ]
  },
  {
   "cell_type": "code",
   "execution_count": 122,
   "id": "04dfa69c",
   "metadata": {},
   "outputs": [
    {
     "data": {
      "text/plain": [
       "loan_limit  Gender  approv_in_adv  Credit_Worthiness  business_or_commercial  loan_amount  term   Neg_ammortization  interest_only  lump_sum_payment  property_value  occupancy_type  income  credit_type  Credit_Score  co-applicant_credit_type  age    submission_of_application  LTV    Region  Status  dtir1\n",
       "False       False   False          False              False                   False        False  False              False          False             False           False           False   False        False         False                     False  False                      False  False   False   False    120635\n",
       "Name: count, dtype: int64"
      ]
     },
     "execution_count": 122,
     "metadata": {},
     "output_type": "execute_result"
    }
   ],
   "source": [
    "df.isna().value_counts()"
   ]
  },
  {
   "cell_type": "code",
   "execution_count": 123,
   "id": "0968329f",
   "metadata": {},
   "outputs": [
    {
     "name": "stdout",
     "output_type": "stream",
     "text": [
      "loan_limit\n",
      "cf     112768\n",
      "ncf      7867\n",
      "Name: count, dtype: int64\n"
     ]
    }
   ],
   "source": [
    "# print(df['Neg_ammortization'].head())\n",
    "\n",
    "# for column_name in df.columns:\n",
    "#     # Count the number of NA values in the current column\n",
    "#     na_count = df[column_name].isna().sum()\n",
    "#     if na_count > 0 : \n",
    "#     # Print the result\n",
    "#         print(f\"The column '{column_name}' has {na_count} NA values.\")\n",
    "\n",
    "# print(df.columns)\n",
    "print(df['loan_limit'].value_counts())\n"
   ]
  },
  {
   "cell_type": "code",
   "execution_count": 124,
   "id": "dc92c7d4",
   "metadata": {},
   "outputs": [],
   "source": [
    "\n",
    "categorical_columns = ['loan_limit', 'Gender', 'approv_in_adv', 'Credit_Worthiness',\n",
    "       'business_or_commercial', 'Neg_ammortization',\n",
    "       'interest_only', 'lump_sum_payment', 'occupancy_type',\n",
    "        'credit_type', 'co-applicant_credit_type',\n",
    "       'age', 'submission_of_application', 'Region']\n",
    "\n",
    "for i in categorical_columns: \n",
    "    df = pd.concat([df,pd.get_dummies(df[i],drop_first=True, prefix=i)],axis=1)\n",
    "    df = df.drop(i,axis=1)\n"
   ]
  },
  {
   "cell_type": "markdown",
   "id": "404c1cc3",
   "metadata": {},
   "source": [
    "# Checking Correlation between values "
   ]
  },
  {
   "cell_type": "code",
   "execution_count": 125,
   "id": "03e46568",
   "metadata": {},
   "outputs": [
    {
     "name": "stdout",
     "output_type": "stream",
     "text": [
      "Correlation Matrix (excluding diagonal):\n",
      "                                   loan_amount      term  property_value  \\\n",
      "loan_amount                                NaN  0.174069        0.734557   \n",
      "term                                  0.174069       NaN        0.048861   \n",
      "property_value                        0.734557  0.048861             NaN   \n",
      "income                                0.451717 -0.054883        0.415447   \n",
      "Credit_Score                          0.005377 -0.002933        0.003639   \n",
      "LTV                                   0.063775  0.209505       -0.442754   \n",
      "Status                               -0.039615  0.008818       -0.045619   \n",
      "dtir1                                 0.014500  0.111253       -0.056722   \n",
      "loan_limit_ncf                        0.258006  0.015988        0.200278   \n",
      "Gender_Joint                          0.190145  0.021610        0.156026   \n",
      "Gender_Male                           0.000939  0.010377       -0.028914   \n",
      "Gender_Sex Not Available             -0.118203 -0.060191       -0.079484   \n",
      "approv_in_adv_pre                    -0.032955  0.031047       -0.057736   \n",
      "Credit_Worthiness_l2                 -0.016664 -0.008916        0.025426   \n",
      "business_or_commercial_nob/c          0.178964 -0.081306        0.215060   \n",
      "Neg_ammortization_not_neg             0.028672  0.011347        0.027990   \n",
      "interest_only_not_int                -0.006570 -0.020253       -0.058341   \n",
      "lump_sum_payment_not_lpsm            -0.001233 -0.013828        0.004055   \n",
      "occupancy_type_pr                     0.038559  0.000487       -0.005364   \n",
      "occupancy_type_sr                    -0.035182 -0.014682       -0.026949   \n",
      "credit_type_CRIF                     -0.001107  0.003581       -0.001659   \n",
      "credit_type_EQUI                      0.001608  0.001787       -0.000729   \n",
      "credit_type_EXP                      -0.008284  0.001653       -0.015518   \n",
      "co-applicant_credit_type_EXP          0.165029 -0.009781        0.138442   \n",
      "age_35-44                             0.131117  0.049873        0.018724   \n",
      "age_45-54                             0.063635 -0.052566        0.054148   \n",
      "age_55-64                            -0.073254 -0.077428        0.003513   \n",
      "age_65-74                            -0.137338 -0.012675       -0.027700   \n",
      "age_<25                              -0.041440  0.026603       -0.052732   \n",
      "age_>74                              -0.089407  0.018127        0.000012   \n",
      "submission_of_application_to_inst    -0.433047 -0.155794       -0.303726   \n",
      "Region_North-East                    -0.012044  0.001016       -0.014444   \n",
      "Region_central                       -0.017366  0.014764       -0.033482   \n",
      "Region_south                          0.017186 -0.044015        0.038038   \n",
      "\n",
      "                                     income  Credit_Score       LTV    Status  \\\n",
      "loan_amount                        0.451717      0.005377  0.063775 -0.039615   \n",
      "term                              -0.054883     -0.002933  0.209505  0.008818   \n",
      "property_value                     0.415447      0.003639 -0.442754 -0.045619   \n",
      "income                                  NaN      0.001576 -0.066218 -0.066185   \n",
      "Credit_Score                       0.001576           NaN -0.003680  0.002728   \n",
      "LTV                               -0.066218     -0.003680       NaN  0.090744   \n",
      "Status                            -0.066185      0.002728  0.090744       NaN   \n",
      "dtir1                             -0.268018     -0.000115  0.157335  0.079413   \n",
      "loan_limit_ncf                     0.137010      0.000732  0.015230  0.053736   \n",
      "Gender_Joint                       0.158623     -0.000564 -0.014476 -0.075962   \n",
      "Gender_Male                       -0.015723      0.000785  0.073001  0.023710   \n",
      "Gender_Sex Not Available          -0.048303      0.004701 -0.031340  0.050423   \n",
      "approv_in_adv_pre                 -0.015918      0.000278  0.083911 -0.037729   \n",
      "Credit_Worthiness_l2               0.018313      0.000507 -0.027502  0.024961   \n",
      "business_or_commercial_nob/c       0.133366      0.001398 -0.246068 -0.120195   \n",
      "Neg_ammortization_not_neg          0.004294      0.000435 -0.031713 -0.132226   \n",
      "interest_only_not_int             -0.014917      0.002630  0.055020 -0.009167   \n",
      "lump_sum_payment_not_lpsm          0.006778      0.000616 -0.018358 -0.178497   \n",
      "occupancy_type_pr                 -0.189282      0.005384  0.091800 -0.034969   \n",
      "occupancy_type_sr                  0.130962     -0.000804  0.000021  0.007295   \n",
      "credit_type_CRIF                  -0.005984     -0.002440  0.000963  0.002861   \n",
      "credit_type_EQUI                   0.000659     -0.003785  0.003702  0.003716   \n",
      "credit_type_EXP                   -0.012211      0.005183  0.014572  0.004843   \n",
      "co-applicant_credit_type_EXP       0.177298      0.002307 -0.022944 -0.069960   \n",
      "age_35-44                          0.060565     -0.000852  0.133790 -0.031914   \n",
      "age_45-54                          0.088026      0.002878 -0.017516 -0.001348   \n",
      "age_55-64                         -0.005632     -0.002786 -0.126099  0.024763   \n",
      "age_65-74                         -0.096686      0.000370 -0.144826  0.018380   \n",
      "age_<25                           -0.030099      0.004742  0.081656  0.009688   \n",
      "age_>74                           -0.077122     -0.006800 -0.119213  0.022103   \n",
      "submission_of_application_to_inst -0.184653      0.000248 -0.030937  0.129239   \n",
      "Region_North-East                 -0.016248     -0.004543  0.009068  0.013391   \n",
      "Region_central                    -0.017789     -0.000229  0.052120  0.026435   \n",
      "Region_south                       0.005664      0.002327 -0.060293  0.034429   \n",
      "\n",
      "                                      dtir1  loan_limit_ncf  Gender_Joint  \\\n",
      "loan_amount                        0.014500        0.258006      0.190145   \n",
      "term                               0.111253        0.015988      0.021610   \n",
      "property_value                    -0.056722        0.200278      0.156026   \n",
      "income                            -0.268018        0.137010      0.158623   \n",
      "Credit_Score                      -0.000115        0.000732     -0.000564   \n",
      "LTV                                0.157335        0.015230     -0.014476   \n",
      "Status                             0.079413        0.053736     -0.075962   \n",
      "dtir1                                   NaN        0.001143     -0.046865   \n",
      "loan_limit_ncf                     0.001143             NaN      0.027533   \n",
      "Gender_Joint                      -0.046865        0.027533           NaN   \n",
      "Gender_Male                        0.007099       -0.001893     -0.392390   \n",
      "Gender_Sex Not Available          -0.000705       -0.001555     -0.357710   \n",
      "approv_in_adv_pre                  0.015478        0.104816     -0.012432   \n",
      "Credit_Worthiness_l2               0.015276       -0.022943      0.007362   \n",
      "business_or_commercial_nob/c      -0.176153        0.016357      0.042390   \n",
      "Neg_ammortization_not_neg         -0.020276       -0.000386      0.017431   \n",
      "interest_only_not_int              0.005989        0.029187     -0.016284   \n",
      "lump_sum_payment_not_lpsm         -0.007613        0.013891      0.011091   \n",
      "occupancy_type_pr                  0.017934        0.008430     -0.025399   \n",
      "occupancy_type_sr                 -0.022916        0.006207      0.020694   \n",
      "credit_type_CRIF                   0.005338       -0.000551     -0.002365   \n",
      "credit_type_EQUI                  -0.002211       -0.001075     -0.002541   \n",
      "credit_type_EXP                    0.005260       -0.004578     -0.006131   \n",
      "co-applicant_credit_type_EXP      -0.047404        0.031011      0.707656   \n",
      "age_35-44                         -0.020802        0.012973      0.021640   \n",
      "age_45-54                         -0.033615        0.019837     -0.008297   \n",
      "age_55-64                         -0.024556       -0.004617     -0.025579   \n",
      "age_65-74                          0.050988       -0.013317      0.000488   \n",
      "age_<25                            0.012710       -0.009311     -0.013330   \n",
      "age_>74                            0.035839       -0.004607     -0.003755   \n",
      "submission_of_application_to_inst  0.011119        0.003355     -0.239537   \n",
      "Region_North-East                  0.014195       -0.005289     -0.022340   \n",
      "Region_central                     0.034429        0.003464      0.077494   \n",
      "Region_south                       0.006606        0.003029     -0.232183   \n",
      "\n",
      "                                   ...  age_35-44  age_45-54  age_55-64  \\\n",
      "loan_amount                        ...   0.131117   0.063635  -0.073254   \n",
      "term                               ...   0.049873  -0.052566  -0.077428   \n",
      "property_value                     ...   0.018724   0.054148   0.003513   \n",
      "income                             ...   0.060565   0.088026  -0.005632   \n",
      "Credit_Score                       ...  -0.000852   0.002878  -0.002786   \n",
      "LTV                                ...   0.133790  -0.017516  -0.126099   \n",
      "Status                             ...  -0.031914  -0.001348   0.024763   \n",
      "dtir1                              ...  -0.020802  -0.033615  -0.024556   \n",
      "loan_limit_ncf                     ...   0.012973   0.019837  -0.004617   \n",
      "Gender_Joint                       ...   0.021640  -0.008297  -0.025579   \n",
      "Gender_Male                        ...   0.038006   0.008010  -0.033712   \n",
      "Gender_Sex Not Available           ...  -0.034575  -0.001733   0.038150   \n",
      "approv_in_adv_pre                  ...   0.003981  -0.006839  -0.010194   \n",
      "Credit_Worthiness_l2               ...  -0.012796   0.004501   0.000983   \n",
      "business_or_commercial_nob/c       ...  -0.016972  -0.007619   0.011672   \n",
      "Neg_ammortization_not_neg          ...   0.011967  -0.000993  -0.009030   \n",
      "interest_only_not_int              ...  -0.000450  -0.004516   0.006937   \n",
      "lump_sum_payment_not_lpsm          ...   0.003216   0.004963  -0.000706   \n",
      "occupancy_type_pr                  ...   0.026050  -0.028337  -0.040090   \n",
      "occupancy_type_sr                  ...  -0.031093   0.001150   0.042444   \n",
      "credit_type_CRIF                   ...  -0.011721  -0.013024   0.002826   \n",
      "credit_type_EQUI                   ...   0.002734  -0.002262   0.002717   \n",
      "credit_type_EXP                    ...   0.010009   0.002686  -0.003088   \n",
      "co-applicant_credit_type_EXP       ...  -0.004785  -0.015891  -0.013626   \n",
      "age_35-44                          ...        NaN  -0.296100  -0.285121   \n",
      "age_45-54                          ...  -0.296100        NaN  -0.297147   \n",
      "age_55-64                          ...  -0.285121  -0.297147        NaN   \n",
      "age_65-74                          ...  -0.212568  -0.221535  -0.213320   \n",
      "age_<25                            ...  -0.050968  -0.053118  -0.051148   \n",
      "age_>74                            ...  -0.117197  -0.122141  -0.117612   \n",
      "submission_of_application_to_inst  ...  -0.140673  -0.013936   0.115123   \n",
      "Region_North-East                  ...  -0.002157   0.006503   0.003565   \n",
      "Region_central                     ...  -0.010394  -0.002219   0.017312   \n",
      "Region_south                       ...   0.016552   0.013489  -0.002812   \n",
      "\n",
      "                                   age_65-74   age_<25   age_>74  \\\n",
      "loan_amount                        -0.137338 -0.041440 -0.089407   \n",
      "term                               -0.012675  0.026603  0.018127   \n",
      "property_value                     -0.027700 -0.052732  0.000012   \n",
      "income                             -0.096686 -0.030099 -0.077122   \n",
      "Credit_Score                        0.000370  0.004742 -0.006800   \n",
      "LTV                                -0.144826  0.081656 -0.119213   \n",
      "Status                              0.018380  0.009688  0.022103   \n",
      "dtir1                               0.050988  0.012710  0.035839   \n",
      "loan_limit_ncf                     -0.013317 -0.009311 -0.004607   \n",
      "Gender_Joint                        0.000488 -0.013330 -0.003755   \n",
      "Gender_Male                        -0.062066  0.031919 -0.034804   \n",
      "Gender_Sex Not Available            0.045266 -0.016269  0.026994   \n",
      "approv_in_adv_pre                  -0.009418  0.015222 -0.013884   \n",
      "Credit_Worthiness_l2                0.004541  0.008065  0.001778   \n",
      "business_or_commercial_nob/c        0.030273 -0.033567  0.028573   \n",
      "Neg_ammortization_not_neg          -0.003464 -0.005618 -0.006094   \n",
      "interest_only_not_int               0.001933  0.005210 -0.005264   \n",
      "lump_sum_payment_not_lpsm           0.003408 -0.002894 -0.010596   \n",
      "occupancy_type_pr                  -0.011152  0.020192 -0.000028   \n",
      "occupancy_type_sr                   0.030057 -0.010899 -0.003807   \n",
      "credit_type_CRIF                    0.007227  0.008596  0.004357   \n",
      "credit_type_EQUI                   -0.001624 -0.000389 -0.000895   \n",
      "credit_type_EXP                    -0.008491 -0.006032 -0.004708   \n",
      "co-applicant_credit_type_EXP        0.033923 -0.005580  0.020239   \n",
      "age_35-44                          -0.212568 -0.050968 -0.117197   \n",
      "age_45-54                          -0.221535 -0.053118 -0.122141   \n",
      "age_55-64                          -0.213320 -0.051148 -0.117612   \n",
      "age_65-74                                NaN -0.038133 -0.087684   \n",
      "age_<25                            -0.038133       NaN -0.021024   \n",
      "age_>74                            -0.087684 -0.021024       NaN   \n",
      "submission_of_application_to_inst   0.146394 -0.015257  0.093343   \n",
      "Region_North-East                  -0.002684  0.001055 -0.007636   \n",
      "Region_central                      0.007166 -0.007355  0.001492   \n",
      "Region_south                       -0.011137 -0.018486 -0.005689   \n",
      "\n",
      "                                   submission_of_application_to_inst  \\\n",
      "loan_amount                                                -0.433047   \n",
      "term                                                       -0.155794   \n",
      "property_value                                             -0.303726   \n",
      "income                                                     -0.184653   \n",
      "Credit_Score                                                0.000248   \n",
      "LTV                                                        -0.030937   \n",
      "Status                                                      0.129239   \n",
      "dtir1                                                       0.011119   \n",
      "loan_limit_ncf                                              0.003355   \n",
      "Gender_Joint                                               -0.239537   \n",
      "Gender_Male                                                -0.059293   \n",
      "Gender_Sex Not Available                                    0.332270   \n",
      "approv_in_adv_pre                                           0.088879   \n",
      "Credit_Worthiness_l2                                        0.027160   \n",
      "business_or_commercial_nob/c                               -0.110801   \n",
      "Neg_ammortization_not_neg                                  -0.057475   \n",
      "interest_only_not_int                                       0.018288   \n",
      "lump_sum_payment_not_lpsm                                  -0.013089   \n",
      "occupancy_type_pr                                           0.051995   \n",
      "occupancy_type_sr                                           0.009828   \n",
      "credit_type_CRIF                                            0.000005   \n",
      "credit_type_EQUI                                            0.003047   \n",
      "credit_type_EXP                                             0.002406   \n",
      "co-applicant_credit_type_EXP                               -0.082944   \n",
      "age_35-44                                                  -0.140673   \n",
      "age_45-54                                                  -0.013936   \n",
      "age_55-64                                                   0.115123   \n",
      "age_65-74                                                   0.146394   \n",
      "age_<25                                                    -0.015257   \n",
      "age_>74                                                     0.093343   \n",
      "submission_of_application_to_inst                                NaN   \n",
      "Region_North-East                                           0.021175   \n",
      "Region_central                                              0.003436   \n",
      "Region_south                                                0.130769   \n",
      "\n",
      "                                   Region_North-East  Region_central  \\\n",
      "loan_amount                                -0.012044       -0.017366   \n",
      "term                                        0.001016        0.014764   \n",
      "property_value                             -0.014444       -0.033482   \n",
      "income                                     -0.016248       -0.017789   \n",
      "Credit_Score                               -0.004543       -0.000229   \n",
      "LTV                                         0.009068        0.052120   \n",
      "Status                                      0.013391        0.026435   \n",
      "dtir1                                       0.014195        0.034429   \n",
      "loan_limit_ncf                             -0.005289        0.003464   \n",
      "Gender_Joint                               -0.022340        0.077494   \n",
      "Gender_Male                                 0.044031       -0.003547   \n",
      "Gender_Sex Not Available                   -0.049621       -0.136534   \n",
      "approv_in_adv_pre                           0.002180        0.000521   \n",
      "Credit_Worthiness_l2                        0.004360       -0.000809   \n",
      "business_or_commercial_nob/c               -0.012560       -0.053739   \n",
      "Neg_ammortization_not_neg                  -0.001471       -0.009242   \n",
      "interest_only_not_int                       0.001961        0.002527   \n",
      "lump_sum_payment_not_lpsm                   0.001310        0.000311   \n",
      "occupancy_type_pr                           0.003347        0.006084   \n",
      "occupancy_type_sr                          -0.005598       -0.007999   \n",
      "credit_type_CRIF                            0.002895        0.000712   \n",
      "credit_type_EQUI                           -0.000369       -0.001003   \n",
      "credit_type_EXP                            -0.001255        0.001145   \n",
      "co-applicant_credit_type_EXP               -0.031587        0.021250   \n",
      "age_35-44                                  -0.002157       -0.010394   \n",
      "age_45-54                                   0.006503       -0.002219   \n",
      "age_55-64                                   0.003565        0.017312   \n",
      "age_65-74                                  -0.002684        0.007166   \n",
      "age_<25                                     0.001055       -0.007355   \n",
      "age_>74                                    -0.007636        0.001492   \n",
      "submission_of_application_to_inst           0.021175        0.003436   \n",
      "Region_North-East                                NaN       -0.022338   \n",
      "Region_central                             -0.022338             NaN   \n",
      "Region_south                               -0.078105       -0.212155   \n",
      "\n",
      "                                   Region_south  \n",
      "loan_amount                            0.017186  \n",
      "term                                  -0.044015  \n",
      "property_value                         0.038038  \n",
      "income                                 0.005664  \n",
      "Credit_Score                           0.002327  \n",
      "LTV                                   -0.060293  \n",
      "Status                                 0.034429  \n",
      "dtir1                                  0.006606  \n",
      "loan_limit_ncf                         0.003029  \n",
      "Gender_Joint                          -0.232183  \n",
      "Gender_Male                           -0.220545  \n",
      "Gender_Sex Not Available               0.642626  \n",
      "approv_in_adv_pre                     -0.009285  \n",
      "Credit_Worthiness_l2                  -0.005114  \n",
      "business_or_commercial_nob/c           0.029414  \n",
      "Neg_ammortization_not_neg              0.002416  \n",
      "interest_only_not_int                  0.002544  \n",
      "lump_sum_payment_not_lpsm             -0.010024  \n",
      "occupancy_type_pr                     -0.025425  \n",
      "occupancy_type_sr                     -0.015807  \n",
      "credit_type_CRIF                       0.000185  \n",
      "credit_type_EQUI                       0.000610  \n",
      "credit_type_EXP                        0.003498  \n",
      "co-applicant_credit_type_EXP          -0.012576  \n",
      "age_35-44                              0.016552  \n",
      "age_45-54                              0.013489  \n",
      "age_55-64                             -0.002812  \n",
      "age_65-74                             -0.011137  \n",
      "age_<25                               -0.018486  \n",
      "age_>74                               -0.005689  \n",
      "submission_of_application_to_inst      0.130769  \n",
      "Region_North-East                     -0.078105  \n",
      "Region_central                        -0.212155  \n",
      "Region_south                                NaN  \n",
      "\n",
      "[34 rows x 34 columns]\n",
      "\n",
      "No highly correlated pairs found.\n"
     ]
    }
   ],
   "source": [
    "correlation_matrix = df.corr()\n",
    "\n",
    "# Exclude diagonal elements\n",
    "correlation_matrix_no_diagonal = correlation_matrix.mask(\n",
    "    pd.DataFrame(np.eye(len(correlation_matrix), dtype=bool), correlation_matrix.index, correlation_matrix.columns))\n",
    "\n",
    "# Display the correlation matrix without diagonal elements\n",
    "print(\"Correlation Matrix (excluding diagonal):\")\n",
    "print(correlation_matrix_no_diagonal)\n",
    "\n",
    "# Check for high absolute correlation coefficients\n",
    "threshold = 0.8  # You can adjust this threshold based on your criteria\n",
    "highly_correlated_pairs = []\n",
    "\n",
    "for i in range(len(correlation_matrix_no_diagonal.columns)):\n",
    "    for j in range(i):\n",
    "        correlation = correlation_matrix_no_diagonal.iloc[i, j]\n",
    "        if abs(correlation) > threshold:\n",
    "            pair = (correlation_matrix_no_diagonal.columns[i], correlation_matrix_no_diagonal.index[j], correlation)\n",
    "            highly_correlated_pairs.append(pair)\n",
    "\n",
    "if highly_correlated_pairs:\n",
    "    print(\"\\nHighly correlated pairs:\")\n",
    "    for pair in highly_correlated_pairs:\n",
    "        print(f\"{pair[0]} and {pair[1]}: {pair[2]}\")\n",
    "else:\n",
    "    print(\"\\nNo highly correlated pairs found.\")"
   ]
  },
  {
   "cell_type": "code",
   "execution_count": 126,
   "id": "57038d50",
   "metadata": {},
   "outputs": [
    {
     "name": "stdout",
     "output_type": "stream",
     "text": [
      "\n",
      "No highly correlated pairs found.\n"
     ]
    }
   ],
   "source": [
    "if highly_correlated_pairs:\n",
    "    print(\"\\nHighly correlated pairs:\")\n",
    "    for pair in highly_correlated_pairs:\n",
    "        print(f\"{pair[0]} and {pair[1]}: {pair[2]}\")\n",
    "else:\n",
    "    print(\"\\nNo highly correlated pairs found.\")"
   ]
  },
  {
   "cell_type": "code",
   "execution_count": 127,
   "id": "f4481fb7",
   "metadata": {},
   "outputs": [
    {
     "data": {
      "image/png": "[encoded data removed]",
      "text/plain": [
       "<Figure size 2000x1500 with 9 Axes>"
      ]
     },
     "metadata": {},
     "output_type": "display_data"
    }
   ],
   "source": [
    "df.hist(bins = 50, figsize = (20, 15))\n",
    "plt.show()"
   ]
  },
  {
   "cell_type": "markdown",
   "id": "b2c15010",
   "metadata": {},
   "source": [
    "# Split Train Test dataset\n",
    "\n",
    "So by looking at the data, we see there are two main types of loans : property loan and non-property loan. \n"
   ]
  },
  {
   "cell_type": "code",
   "execution_count": 128,
   "id": "66b3145c",
   "metadata": {},
   "outputs": [],
   "source": [
    "# define X and y variables as dataframe \n",
    "y = df['Status']\n",
    "X = df.drop('Status',axis=1)\n",
    "X_train, X_OOS_test, y_train, y_OOS_test = train_test_split(X, y, test_size=0.20, random_state=66)"
   ]
  },
  {
   "cell_type": "code",
   "execution_count": 13,
   "id": "9c4b9389",
   "metadata": {},
   "outputs": [],
   "source": [
    "# non_numeric_columns = X_train.select_dtypes(exclude=['float64', 'int64']).columns\n",
    "# print(\"Non-numeric columns:\", non_numeric_columns)"
   ]
  },
  {
   "cell_type": "markdown",
   "id": "0353a40f",
   "metadata": {},
   "source": [
    "## Normalising the values "
   ]
  },
  {
   "cell_type": "code",
   "execution_count": 56,
   "id": "9418f13b",
   "metadata": {},
   "outputs": [],
   "source": [
    "\n",
    "# Normalised the values \n",
    "scaler = StandardScaler()\n",
    "# Fit and apply normalization on the training set\n",
    "X_train = scaler.fit_transform(X_train)\n",
    "# Apply the same normalization rules on the test set\n",
    "X_OOS_test = scaler.transform(X_OOS_test)\n"
   ]
  },
  {
   "cell_type": "markdown",
   "id": "d3e1ae90",
   "metadata": {},
   "source": [
    "## Over Sampling \n"
   ]
  },
  {
   "cell_type": "code",
   "execution_count": 129,
   "id": "1a528c4d",
   "metadata": {},
   "outputs": [],
   "source": [
    "# Over sample using SMOTE\n",
    "# -- by inspecting the data, we see that the minority class is extremely class (fraud \"Class\" == 1)\n",
    "sm = SMOTE(random_state=42)\n",
    "X_smote, y_smote = sm.fit_resample(X_train, y_train)"
   ]
  },
  {
   "cell_type": "code",
   "execution_count": 130,
   "id": "f27f4bf8",
   "metadata": {},
   "outputs": [
    {
     "name": "stdout",
     "output_type": "stream",
     "text": [
      "Status\n",
      "0    80809\n",
      "1    80809\n",
      "Name: count, dtype: int64\n"
     ]
    }
   ],
   "source": [
    "# -- Code to Inspect the data set -- \n",
    "# df_oversampled = X_smote\n",
    "# df_oversampled['Outcome_Variable'] = y_smote\n",
    "# df_oversampled\n",
    "# fig, ax = plt.subplots(figsize=(10, 8))\n",
    "# df_oversampled['Outcome_Variable'].value_counts().plot(kind='bar', ax=ax, fontsize=14)\n",
    "# ax.set_title('Oversampled Dataset', fontsize=16)\n",
    "# ax.set_ylabel('Observation counts', fontsize=14)\n",
    "# ax.set_xlabel('Class', fontsize=14)\n",
    "# plt.show()\n",
    "\n",
    "print(y_smote.value_counts())\n"
   ]
  },
  {
   "cell_type": "code",
   "execution_count": 131,
   "id": "5d5baf83",
   "metadata": {},
   "outputs": [],
   "source": [
    "# Set up K-Fold Cross Validation \n",
    "n_splits = 5\n",
    "shuffle = True\n",
    "random_state = 809\n",
    "cv = KFold(n_splits=n_splits, shuffle=shuffle, random_state=random_state)\n",
    "# plot = plot_cv_indices(cv, X_smote, y_smote, n_splits)"
   ]
  },
  {
   "cell_type": "markdown",
   "id": "2991280a",
   "metadata": {},
   "source": [
    "## Model 1 : Logistic Regression "
   ]
  },
  {
   "cell_type": "code",
   "execution_count": 151,
   "id": "abb0ebd3",
   "metadata": {},
   "outputs": [],
   "source": [
    "def plot_cv_indices(cv, X, y, n_splits, lw=10):\n",
    "    '''\n",
    "    This function plots the Cross validation indices.\n",
    "    '''\n",
    "    \n",
    "    fig, ax = plt.subplots(figsize = (15,8))\n",
    "    # Generate the training/testing visualizations for each CV split\n",
    "    for ii, (tr, tt) in enumerate(cv.split(X=X, y=y)):\n",
    "        # Fill in indices with the training/test groups\n",
    "        indices = np.array([np.nan] * len(X))\n",
    "        indices[tt] = 1\n",
    "        indices[tr] = 0\n",
    "\n",
    "        # Visualize the results\n",
    "        ax.scatter(range(len(indices)), [ii + .5] * len(indices),\n",
    "                   c=indices, marker='_', lw=lw, cmap=plt.cm.coolwarm,\n",
    "                   vmin=-.2, vmax=1.2)\n",
    "\n",
    "    # Plot the data classes\n",
    "    ax.scatter(range(len(X)), [ii + 1.5] * len(X), c=y, marker='_', lw=lw, cmap=plt.cm.Paired)\n",
    "\n",
    "    # Formatting\n",
    "    yticklabels = list(range(n_splits)) + ['Class']\n",
    "    ax.set(yticks=np.arange(n_splits+1) + .5, yticklabels=yticklabels,\n",
    "           xlabel='Sample index', ylabel=\"CV iteration\",\n",
    "           ylim=[n_splits+2.2, -.2])\n",
    "    ax.set_title('{}'.format(type(cv).__name__), fontsize=15)\n",
    "    return ax"
   ]
  },
  {
   "cell_type": "code",
   "execution_count": 152,
   "id": "5781f426",
   "metadata": {},
   "outputs": [
    {
     "name": "stdout",
     "output_type": "stream",
     "text": [
      "Logistic Model score : 0.5554772661333776\n",
      "Logistic Model Recall :  0.6205154118241536\n",
      "Logistic Model Precision :  0.21029197705282987\n",
      "Probability if you only predict 0s  0.998\n"
     ]
    },
    {
     "name": "stderr",
     "output_type": "stream",
     "text": [
      "/Users/norawang/anaconda3/lib/python3.11/site-packages/sklearn/linear_model/_logistic.py:469: ConvergenceWarning: lbfgs failed to converge (status=1):\n",
      "STOP: TOTAL NO. of ITERATIONS REACHED LIMIT.\n",
      "\n",
      "Increase the number of iterations (max_iter) or scale the data as shown in:\n",
      "    https://scikit-learn.org/stable/modules/preprocessing.html\n",
      "Please also refer to the documentation for alternative solver options:\n",
      "    https://scikit-learn.org/stable/modules/linear_model.html#logistic-regression\n",
      "  n_iter_i = _check_optimize_result(\n"
     ]
    }
   ],
   "source": [
    "model = LogisticRegression(solver='lbfgs', max_iter=300)\n",
    "model.fit(X_smote, y_smote)    \n",
    "score_OOS = model.score(X_OOS_test, y_OOS_test)\n",
    "print (\"Logistic Model score :\" , score_OOS)\n",
    "y_pred = model.predict(X_OOS_test)\n",
    "print(\"Logistic Model Recall : \" , recall_score(y_OOS_test, y_pred))\n",
    "print(\"Logistic Model Precision : \", precision_score(y_OOS_test,y_pred))\n",
    "print(\"Probability if you only predict 0s \", 1-round(95/56867,3))"
   ]
  },
  {
   "cell_type": "markdown",
   "id": "37c02911",
   "metadata": {},
   "source": [
    "\n",
    "\n",
    "# Model 2 : Lasso \n",
    "\n",
    "## Cross Validation for LASSO "
   ]
  },
  {
   "cell_type": "code",
   "execution_count": 135,
   "id": "1d072777",
   "metadata": {},
   "outputs": [
    {
     "name": "stdout",
     "output_type": "stream",
     "text": [
      "Training Lasso Lambda Value :  0.001\n",
      "Lambda Value Accuracy : 0.001 0.44711725719929485\n",
      "Lambda Value Precision : 0.001 0.7694027479516002\n",
      "Lambda Value Recall : 0.001 0.8703847008502779\n",
      "\n",
      "Training Lasso Lambda Value :  0.0025\n",
      "Lambda Value Accuracy : 0.0025 0.43852200006548847\n",
      "Lambda Value Precision : 0.0025 0.7704361990358108\n",
      "Lambda Value Recall : 0.0025 0.8580079276109858\n",
      "\n",
      "Training Lasso Lambda Value :  0.005\n",
      "Lambda Value Accuracy : 0.005 0.4239234748471895\n",
      "Lambda Value Precision : 0.005 0.7731679147348525\n",
      "Lambda Value Recall : 0.005 0.8412426886210259\n",
      "\n",
      "Training Lasso Lambda Value :  0.0075\n",
      "Lambda Value Accuracy : 0.0075 0.40865517205749463\n",
      "Lambda Value Precision : 0.0075 0.7784884785769004\n",
      "Lambda Value Recall : 0.0075 0.8281218854352526\n",
      "\n",
      "Training Lasso Lambda Value :  0.01\n",
      "Lambda Value Accuracy : 0.01 0.38834371860427935\n",
      "Lambda Value Precision : 0.01 0.7797380844218446\n",
      "Lambda Value Recall : 0.01 0.8130769483463176\n",
      "\n",
      "Training Lasso Lambda Value :  0.0125\n",
      "Lambda Value Accuracy : 0.0125 0.3635152488277941\n",
      "Lambda Value Precision : 0.0125 0.7802693721370172\n",
      "Lambda Value Recall : 0.0125 0.7963047513523904\n",
      "\n",
      "Training Lasso Lambda Value :  0.015\n",
      "Lambda Value Accuracy : 0.015 0.33590323983612913\n",
      "Lambda Value Precision : 0.015 0.7791849572302184\n",
      "Lambda Value Recall : 0.015 0.7772112463681267\n",
      "\n",
      "Training Lasso Lambda Value :  0.0175\n",
      "Lambda Value Accuracy : 0.0175 0.3123426926021501\n",
      "Lambda Value Precision : 0.0175 0.7781109483447336\n",
      "Lambda Value Recall : 0.0175 0.7633036763857609\n",
      "\n",
      "Training Lasso Lambda Value :  0.02\n",
      "Lambda Value Accuracy : 0.02 0.2866756315066489\n",
      "Lambda Value Precision : 0.02 0.7751103779295083\n",
      "Lambda Value Recall : 0.02 0.7491052442881918\n",
      "\n",
      "------------------\n",
      "Accuracy :  {0.001: 0.44711725719929485, 0.0025: 0.43852200006548847, 0.005: 0.4239234748471895, 0.0075: 0.40865517205749463, 0.01: 0.38834371860427935, 0.0125: 0.3635152488277941, 0.015: 0.33590323983612913, 0.0175: 0.3123426926021501, 0.02: 0.2866756315066489}\n",
      "Precision :  {0.001: 0.8703847008502779, 0.0025: 0.8580079276109858, 0.005: 0.8412426886210259, 0.0075: 0.8281218854352526, 0.01: 0.8130769483463176, 0.0125: 0.7963047513523904, 0.015: 0.7772112463681267, 0.0175: 0.7633036763857609, 0.02: 0.7491052442881918}\n",
      "Recall :  {0.001: 0.7694027479516002, 0.0025: 0.7704361990358108, 0.005: 0.7731679147348525, 0.0075: 0.7784884785769004, 0.01: 0.7797380844218446, 0.0125: 0.7802693721370172, 0.015: 0.7791849572302184, 0.0175: 0.7781109483447336, 0.02: 0.7751103779295083}\n"
     ]
    }
   ],
   "source": [
    "# Model 2 : LASSO \n",
    "# Cross Validate the penalty term in lasso\n",
    "cross_validate_result = {}\n",
    "cross_validate_recall = {} \n",
    "cross_validate_precision = {} \n",
    "\n",
    "# Set Hyperparameter (Lambda) values to cross validate here !!!!! \n",
    "lambdas = [0.001, 0.0025, 0.005, 0.0075,0.01, 0.0125, 0.015, 0.0175,0.02]\n",
    "for lambda_value in lambdas:\n",
    "    print('Training Lasso Lambda Value : ', lambda_value)\n",
    "    accuracies = []\n",
    "    recall_scores = [] \n",
    "    precision_scores = [] \n",
    "    lasso = linear_model.Lasso(alpha=lambda_value)\n",
    "    for train_index, test_index in cv.split(X_smote):\n",
    "        # change to loc to define the rows in the dataframe \n",
    "        X_cv_train, X_cv_test, y_cv_train, y_cv_test = X_smote.iloc[train_index], X_smote.iloc[test_index], y_smote.iloc[train_index], y_smote.iloc[test_index]\n",
    "        lasso.fit(X_cv_train, y_cv_train)\n",
    "        y_pred = lasso.predict(X_cv_test)\n",
    "        y_pred_classification = [1 if x >= 0.5 else 0 for x in y_pred]\n",
    "\n",
    "        #Cross-Validation Prediction Error\n",
    "        score = lasso.score(X_cv_test, y_cv_test)\n",
    "        accuracies.append(score)\n",
    "        recall_scores.append(recall_score(y_cv_test, y_pred_classification))\n",
    "        precision_scores.append(precision_score(y_cv_test,y_pred_classification))\n",
    "\n",
    "    cross_validate_result[lambda_value] = (sum(accuracies)/len(accuracies))\n",
    "    cross_validate_recall[lambda_value] = (sum(recall_scores)/len(recall_scores))\n",
    "    cross_validate_precision[lambda_value] = (sum(precision_scores)/len(precision_scores))\n",
    "\n",
    "    print(\"Lambda Value Accuracy : \" + str(lambda_value) + \" \" + str((sum(accuracies)/len(accuracies))))\n",
    "    print(\"Lambda Value Precision : \" + str(lambda_value) + \" \" + str((sum(recall_scores)/len(recall_scores))))\n",
    "    print(\"Lambda Value Recall : \" + str(lambda_value) + \" \" + str((sum(precision_scores)/len(precision_scores))))\n",
    "    print() \n",
    "# At the end you'll see what the value of each LASSO paramter is\n",
    "print('------------------')\n",
    "print('Accuracy : ', cross_validate_result)\n",
    "print('Precision : ',cross_validate_precision)\n",
    "print('Recall : ',cross_validate_recall)\n",
    "\n",
    "\n",
    "\n",
    "    "
   ]
  },
  {
   "cell_type": "markdown",
   "id": "d4de3d31",
   "metadata": {},
   "source": [
    "# LASSO precision recall graph"
   ]
  },
  {
   "cell_type": "code",
   "execution_count": 136,
   "id": "1b55c291",
   "metadata": {},
   "outputs": [
    {
     "data": {
      "image/png": "[encoded data removed]",
      "text/plain": [
       "<Figure size 1000x600 with 1 Axes>"
      ]
     },
     "metadata": {},
     "output_type": "display_data"
    }
   ],
   "source": [
    "# Precision and Recall line graph\n",
    "plt.figure(figsize=(10, 6))\n",
    "\n",
    "for metric, scores in zip(['Precision', 'Recall'], [cross_validate_precision, cross_validate_recall]):\n",
    "    lambda_values = sorted(scores.keys())\n",
    "    score_values = [scores[lambda_value] for lambda_value in lambda_values]\n",
    "    plt.plot(lambda_values, score_values, marker='o', label=f'{metric}')\n",
    "\n",
    "plt.title('Cross Validation Precision and Recall vs Lambda')\n",
    "plt.xlabel('Lambda')\n",
    "plt.ylabel('Score')\n",
    "plt.legend()\n",
    "plt.grid(True)\n",
    "plt.show()"
   ]
  },
  {
   "cell_type": "code",
   "execution_count": 155,
   "id": "fbd0fa5e",
   "metadata": {},
   "outputs": [
    {
     "name": "stdout",
     "output_type": "stream",
     "text": [
      "Index(['loan_amount', 'term', 'property_value', 'income', 'Credit_Score',\n",
      "       'LTV', 'dtir1', 'loan_limit_ncf', 'Gender_Joint', 'Gender_Male',\n",
      "       'Gender_Sex Not Available', 'approv_in_adv_pre', 'Credit_Worthiness_l2',\n",
      "       'business_or_commercial_nob/c', 'Neg_ammortization_not_neg',\n",
      "       'interest_only_not_int', 'lump_sum_payment_not_lpsm',\n",
      "       'occupancy_type_pr', 'occupancy_type_sr', 'credit_type_CRIF',\n",
      "       'credit_type_EQUI', 'credit_type_EXP', 'co-applicant_credit_type_EXP',\n",
      "       'age_35-44', 'age_45-54', 'age_55-64', 'age_65-74', 'age_<25',\n",
      "       'age_>74', 'submission_of_application_to_inst', 'Region_North-East',\n",
      "       'Region_central', 'Region_south'],\n",
      "      dtype='object')\n"
     ]
    }
   ],
   "source": [
    "column_names = df.drop('Status', axis=1).columns\n",
    "print(column_names)"
   ]
  },
  {
   "cell_type": "code",
   "execution_count": 157,
   "id": "531e25bb",
   "metadata": {},
   "outputs": [
    {
     "name": "stdout",
     "output_type": "stream",
     "text": [
      "LASSO score : \n",
      "LASSO Model Recall :  0.32289034866093985\n",
      "LASSO Model Precision :  0.26366824840107284\n",
      "--\n"
     ]
    }
   ],
   "source": [
    "# LASSO \n",
    "lasso = linear_model.Lasso(alpha=0.01)\n",
    "lasso.fit(X_smote, y_smote)\n",
    "y_pred = lasso.predict(X_OOS_test)\n",
    "# turn the continous value into classification via simple >= 0.5 is 1 \n",
    "y_pred_classification = [1 if x >= 0.5 else 0 for x in y_pred]\n",
    "print(\"LASSO score : \" , )\n",
    "print(\"LASSO Model Recall : \" , recall_score(y_OOS_test, y_pred_classification))\n",
    "print(\"LASSO Model Precision : \", precision_score(y_OOS_test,y_pred_classification))\n",
    "print(\"--\")"
   ]
  },
  {
   "cell_type": "code",
   "execution_count": 158,
   "id": "a0bd79eb",
   "metadata": {},
   "outputs": [
    {
     "name": "stdout",
     "output_type": "stream",
     "text": [
      "[-1.29232361e-07  1.73262260e-04  1.37910617e-07 -5.06631398e-06\n",
      "  1.50930141e-05  3.83157826e-03  2.85340560e-03  1.62569845e-02\n",
      "  1.10647240e-01  1.84757095e-01  8.71763271e-02  0.00000000e+00\n",
      "  0.00000000e+00  0.00000000e+00 -0.00000000e+00  0.00000000e+00\n",
      " -0.00000000e+00  0.00000000e+00  0.00000000e+00  1.17000740e-01\n",
      "  0.00000000e+00  1.11856991e-01  0.00000000e+00  1.57051748e-01\n",
      "  1.94534911e-01  2.13174936e-01  1.85774697e-01  0.00000000e+00\n",
      "  1.21677168e-01  1.83605336e-01  0.00000000e+00  2.77965882e-02\n",
      "  1.10558995e-01]\n",
      "loan_amount  :  -1.2923236143146565e-07\n",
      "term  :  0.0001732622598189971\n",
      "property_value  :  1.3791061722216492e-07\n",
      "income  :  -5.066313975150981e-06\n",
      "Credit_Score  :  1.5093014119256553e-05\n",
      "LTV  :  0.003831578263956499\n",
      "dtir1  :  0.0028534056031997036\n",
      "loan_limit_ncf  :  0.016256984546071333\n",
      "Gender_Joint  :  0.11064723961314146\n",
      "Gender_Male  :  0.18475709461522968\n",
      "Gender_Sex Not Available  :  0.08717632706677085\n",
      "credit_type_CRIF  :  0.11700074020462602\n",
      "credit_type_EXP  :  0.1118569906819267\n",
      "age_35-44  :  0.15705174756333884\n",
      "age_45-54  :  0.19453491097884248\n",
      "age_55-64  :  0.21317493643322052\n",
      "age_65-74  :  0.18577469704305083\n",
      "age_>74  :  0.1216771680244185\n",
      "submission_of_application_to_inst  :  0.18360533606499746\n",
      "Region_central  :  0.027796588184322273\n",
      "Region_south  :  0.11055899493483798\n"
     ]
    }
   ],
   "source": [
    "print(lasso.coef_)\n",
    "for i in range(len(lasso.coef_)):\n",
    "    if lasso.coef_[i] != 0:\n",
    "        print(column_names[i], ' : ' , lasso.coef_[i])"
   ]
  },
  {
   "cell_type": "markdown",
   "id": "2caa2196",
   "metadata": {},
   "source": [
    "# Ridge cross validation"
   ]
  },
  {
   "cell_type": "code",
   "execution_count": 145,
   "id": "15d8977f",
   "metadata": {},
   "outputs": [
    {
     "name": "stdout",
     "output_type": "stream",
     "text": [
      "Training Ridge Alpha value: 0.1\n",
      "Alpha Value Accuracy: 0.4492235064464675\n",
      "Alpha Value Precision: 0.8770218956562509\n",
      "Alpha Value Recall: 0.7670639219983653\n",
      "\n",
      "Training Ridge Alpha value: 1\n",
      "Alpha Value Accuracy: 0.4492240601532093\n",
      "Alpha Value Precision: 0.8769987450795\n",
      "Alpha Value Recall: 0.7670762190962501\n",
      "\n",
      "Training Ridge Alpha value: 3\n",
      "Alpha Value Accuracy: 0.44922472123976076\n",
      "Alpha Value Precision: 0.8770127731145066\n",
      "Alpha Value Recall: 0.7670884378202052\n",
      "\n",
      "Training Ridge Alpha value: 5\n",
      "Alpha Value Accuracy: 0.44922497789685895\n",
      "Alpha Value Precision: 0.876995065027474\n",
      "Alpha Value Recall: 0.7670512122458006\n",
      "\n",
      "Training Ridge Alpha value: 10\n",
      "Alpha Value Accuracy: 0.4492248439285049\n",
      "Alpha Value Precision: 0.8768490907432787\n",
      "Alpha Value Recall: 0.7670758140547332\n",
      "\n",
      "------------------\n",
      "Accuracy :  {0.1: 0.4492235064464675, 1: 0.4492240601532093, 3: 0.44922472123976076, 5: 0.44922497789685895, 10: 0.4492248439285049}\n",
      "Precision :  {0.1: 0.8770218956562509, 1: 0.8769987450795, 3: 0.8770127731145066, 5: 0.876995065027474, 10: 0.8768490907432787}\n",
      "Recall :  {0.1: 0.7670639219983653, 1: 0.7670762190962501, 3: 0.7670884378202052, 5: 0.7670512122458006, 10: 0.7670758140547332}\n",
      "5\n",
      "0.1\n",
      "3\n"
     ]
    }
   ],
   "source": [
    "# Cross Validate the Ridge regression\n",
    "cross_validate_result = {}\n",
    "cross_validate_recall = {} \n",
    "cross_validate_precision = {} \n",
    "\n",
    "# Set Hyperparameter (Alpha) values to cross validate\n",
    "alphas = [0.1, 1,3, 5, 10]\n",
    "for alpha_value in alphas:\n",
    "    print('Training Ridge Alpha value:', alpha_value)\n",
    "    accuracies = []\n",
    "    recall_scores = [] \n",
    "    precision_scores = [] \n",
    "    ridge = Ridge(alpha=alpha_value)\n",
    "    for train_index, test_index in cv.split(X_smote):\n",
    "        X_cv_train, X_cv_test, y_cv_train, y_cv_test = X_smote.iloc[train_index], X_smote.iloc[test_index], y_smote.iloc[train_index], y_smote.iloc[test_index]\n",
    "        ridge.fit(X_cv_train, y_cv_train)\n",
    "        y_pred = ridge.predict(X_cv_test)\n",
    "        y_pred_classification = [1 if x >= 0.5 else 0 for x in y_pred]\n",
    "\n",
    "        # Cross-Validation Prediction Error\n",
    "        score = ridge.score(X_cv_test, y_cv_test)\n",
    "        accuracies.append(score)\n",
    "        recall_scores.append(recall_score(y_cv_test, y_pred_classification))\n",
    "        precision_scores.append(precision_score(y_cv_test, y_pred_classification))\n",
    "\n",
    "    cross_validate_result[alpha_value] = (sum(accuracies)/len(accuracies))\n",
    "    cross_validate_recall[alpha_value] = (sum(recall_scores)/len(recall_scores))\n",
    "    cross_validate_precision[alpha_value] = (sum(precision_scores)/len(precision_scores))\n",
    "\n",
    "    print(\"Alpha Value Accuracy:\", cross_validate_result[alpha_value])\n",
    "    print(\"Alpha Value Precision:\", cross_validate_precision[alpha_value])\n",
    "    print(\"Alpha Value Recall:\", cross_validate_recall[alpha_value])\n",
    "    print() \n",
    "\n",
    "# At the end you'll see what the value of each Ridge parameter is\n",
    "print('------------------')\n",
    "print('Accuracy : ', cross_validate_result)\n",
    "print('Precision : ', cross_validate_precision)\n",
    "print('Recall : ', cross_validate_recall)\n",
    "print(max(cross_validate_result, key=cross_validate_result.get))\n",
    "print(max(cross_validate_precision, key=cross_validate_precision.get))\n",
    "print(max(cross_validate_recall, key=cross_validate_recall.get))"
   ]
  },
  {
   "cell_type": "markdown",
   "id": "7452fd07",
   "metadata": {},
   "source": [
    "# Ridge graph"
   ]
  },
  {
   "cell_type": "code",
   "execution_count": 142,
   "id": "027cee00",
   "metadata": {},
   "outputs": [
    {
     "data": {
      "image/png": "[encoded data removed]",
      "text/plain": [
       "<Figure size 1000x600 with 1 Axes>"
      ]
     },
     "metadata": {},
     "output_type": "display_data"
    }
   ],
   "source": [
    "# Precision and Recall line graph\n",
    "plt.figure(figsize=(10, 6))\n",
    "\n",
    "for metric, scores in zip(['Precision', 'Recall'], [cross_validate_precision, cross_validate_recall]):\n",
    "    alpha_values = sorted(scores.keys())\n",
    "    score_values = [scores[alpha_value] for alpha_value in alpha_values]\n",
    "    plt.plot(alpha_values, score_values, marker='o', label=f'{metric}')\n",
    "\n",
    "plt.title('Ridge: Cross Validation Precision and Recall vs Alpha')\n",
    "plt.xlabel('Alpha')\n",
    "plt.ylabel('Score')\n",
    "plt.legend()\n",
    "plt.grid(True)\n",
    "plt.show()"
   ]
  },
  {
   "cell_type": "markdown",
   "id": "aff39eec",
   "metadata": {},
   "source": [
    "# OLS cross validation"
   ]
  },
  {
   "cell_type": "code",
   "execution_count": null,
   "id": "297bb569",
   "metadata": {},
   "outputs": [],
   "source": [
    "# Cross Validate the OLS regression\n",
    "cross_validate_result = {}\n",
    "cross_validate_recall = {} \n",
    "cross_validate_precision = {} \n",
    "\n",
    "# Set Hyperparameter (None for OLS)\n",
    "hyperparameters = [None]  # OLS doesn't have hyperparameters, so we use None\n",
    "for hyperparameter in hyperparameters:\n",
    "    print('Training OLS')\n",
    "    accuracies = []\n",
    "    recall_scores = [] \n",
    "    precision_scores = [] \n",
    "    ols = LinearRegression()\n",
    "    for train_index, test_index in cv.split(X_smote):\n",
    "        X_cv_train, X_cv_test, y_cv_train, y_cv_test = X_smote.iloc[train_index], X_smote.iloc[test_index], y_smote.iloc[train_index], y_smote.iloc[test_index]\n",
    "        ols.fit(X_cv_train, y_cv_train)\n",
    "        y_pred = ols.predict(X_cv_test)\n",
    "        y_pred_classification = [1 if x >= 0.5 else 0 for x in y_pred]\n",
    "\n",
    "        # Cross-Validation Prediction Error\n",
    "        score = ols.score(X_cv_test, y_cv_test)\n",
    "        accuracies.append(score)\n",
    "        recall_scores.append(recall_score(y_cv_test, y_pred_classification))\n",
    "        precision_scores.append(precision_score(y_cv_test, y_pred_classification))\n",
    "\n",
    "    cross_validate_result[hyperparameter] = (sum(accuracies)/len(accuracies))\n",
    "    cross_validate_recall[hyperparameter] = (sum(recall_scores)/len(recall_scores))\n",
    "    cross_validate_precision[hyperparameter] = (sum(precision_scores)/len(precision_scores))\n",
    "\n",
    "    print(\"Accuracy: \", cross_validate_result[hyperparameter])\n",
    "    print(\"Precision: \", cross_validate_precision[hyperparameter])\n",
    "    print(\"Recall: \", cross_validate_recall[hyperparameter])\n",
    "    print() \n",
    "\n",
    "# At the end you'll see what the value of each OLS parameter is\n",
    "print('------------------')\n",
    "print('Accuracy : ', cross_validate_result)\n",
    "print('Precision : ', cross_validate_precision)\n",
    "print('Recall : ', cross_validate_recall)"
   ]
  },
  {
   "cell_type": "markdown",
   "metadata": {},
   "source": [
    "# Cross Validate LASSO, OLS, and Ridge"
   ]
  },
  {
   "cell_type": "code",
   "execution_count": 148,
   "id": "afb75c14",
   "metadata": {},
   "outputs": [
    {
     "name": "stdout",
     "output_type": "stream",
     "text": [
      "Training LASSO\n",
      "LASSO with Hyperparameter: 0.01\n",
      "LASSO Accuracy: 0.38834371860427935\n",
      "LASSO Precision: 0.8130769483463176\n",
      "LASSO Recall: 0.7797380844218446\n",
      "\n",
      "Training OLS\n",
      "OLS with Hyperparameter: None\n",
      "OLS Accuracy: 0.4492234292659226\n",
      "OLS Precision: 0.8770218956562509\n",
      "OLS Recall: 0.7670639219983653\n",
      "\n",
      "Training Ridge\n",
      "Ridge with Hyperparameter: 3\n",
      "Ridge Accuracy: 0.44922472123976076\n",
      "Ridge Precision: 0.8770127731145066\n",
      "Ridge Recall: 0.7670884378202052\n",
      "\n",
      "------------------\n",
      "Accuracy : {'LASSO': {0.01: 0.38834371860427935}, 'OLS': {None: 0.4492234292659226}, 'Ridge': {3: 0.44922472123976076}}\n",
      "Precision : {'LASSO': {0.01: 0.8130769483463176}, 'OLS': {None: 0.8770218956562509}, 'Ridge': {3: 0.8770127731145066}}\n",
      "Recall : {'LASSO': {0.01: 0.7797380844218446}, 'OLS': {None: 0.7670639219983653}, 'Ridge': {3: 0.7670884378202052}}\n"
     ]
    }
   ],
   "source": [
    "# Cross Validate LASSO, OLS, and Ridge\n",
    "models = {\n",
    "    \"LASSO\": Lasso,\n",
    "    \"OLS\": LinearRegression,\n",
    "    \"Ridge\": Ridge\n",
    "}\n",
    "\n",
    "# Set hyperparameters for LASSO and Ridge\n",
    "lasso_alphas = [0.01]\n",
    "ridge_alphas = [3]\n",
    "\n",
    "# Store cross-validation results\n",
    "cross_validate_results = {model_name: {} for model_name in models.keys()}\n",
    "cross_validate_recalls = {model_name: {} for model_name in models.keys()}\n",
    "cross_validate_precisions = {model_name: {} for model_name in models.keys()}\n",
    "\n",
    "for model_name, model_class in models.items():\n",
    "    print(f\"Training {model_name}\")\n",
    "    hyperparameters = lasso_alphas if model_name == \"LASSO\" else ridge_alphas if model_name == \"Ridge\" else [None]\n",
    "    for hyperparameter in hyperparameters:\n",
    "        print(f\"{model_name} with Hyperparameter: {hyperparameter}\")\n",
    "        accuracies = []\n",
    "        recall_scores = []\n",
    "        precision_scores = []\n",
    "        model = model_class(alpha=hyperparameter) if hyperparameter is not None else model_class()\n",
    "        for train_index, test_index in cv.split(X_smote):\n",
    "            X_cv_train, X_cv_test, y_cv_train, y_cv_test = X_smote.iloc[train_index], X_smote.iloc[test_index], y_smote.iloc[train_index], y_smote.iloc[test_index]\n",
    "            model.fit(X_cv_train, y_cv_train)\n",
    "            y_pred = model.predict(X_cv_test)\n",
    "            y_pred_classification = [1 if x >= 0.5 else 0 for x in y_pred]\n",
    "\n",
    "            # Cross-Validation Prediction Error\n",
    "            score = model.score(X_cv_test, y_cv_test)\n",
    "            accuracies.append(score)\n",
    "            recall_scores.append(recall_score(y_cv_test, y_pred_classification))\n",
    "            precision_scores.append(precision_score(y_cv_test, y_pred_classification))\n",
    "\n",
    "        cross_validate_results[model_name][hyperparameter] = (sum(accuracies) / len(accuracies))\n",
    "        cross_validate_recalls[model_name][hyperparameter] = (sum(recall_scores) / len(recall_scores))\n",
    "        cross_validate_precisions[model_name][hyperparameter] = (sum(precision_scores) / len(precision_scores))\n",
    "\n",
    "        print(f\"{model_name} Accuracy: {cross_validate_results[model_name][hyperparameter]}\")\n",
    "        print(f\"{model_name} Precision: {cross_validate_precisions[model_name][hyperparameter]}\")\n",
    "        print(f\"{model_name} Recall: {cross_validate_recalls[model_name][hyperparameter]}\")\n",
    "        print()\n",
    "\n",
    "print('------------------')\n",
    "print('Accuracy :', cross_validate_results)\n",
    "print('Precision :', cross_validate_precisions)\n",
    "print('Recall :', cross_validate_recalls)"
   ]
  },
  {
   "cell_type": "markdown",
   "id": "eea1ffbf",
   "metadata": {},
   "source": [
    "## LASSO vs Ridge vs OLS"
   ]
  },
  {
   "cell_type": "code",
   "execution_count": 150,
   "id": "6354c645",
   "metadata": {},
   "outputs": [
    {
     "name": "stdout",
     "output_type": "stream",
     "text": [
      "OLS Model Recall :  0.2594744820616473\n",
      "OLS Model Precision :  0.32407699589775957\n",
      "--\n",
      "LASSO score : \n",
      "LASSO Model Recall :  0.32289034866093985\n",
      "LASSO Model Precision :  0.26366824840107284\n",
      "--\n",
      "Ridge Model Recall :  0.2594744820616473\n",
      "Ridge Model Precision :  0.32397476340694004\n"
     ]
    }
   ],
   "source": [
    "# Somehow LASSO is performing worse?\n",
    "ols = linear_model.LinearRegression()\n",
    "ols.fit(X_smote, y_smote)    \n",
    "y_pred = ols.predict(X_OOS_test)\n",
    "# turn the continous value into classification via simple >= 0.5 is 1 \n",
    "y_pred_classification = [1 if x >= 0.5 else 0 for x in y_pred]\n",
    "print(\"OLS Model Recall : \" , recall_score(y_OOS_test, y_pred_classification))\n",
    "print(\"OLS Model Precision : \", precision_score(y_OOS_test,y_pred_classification))\n",
    "print(\"--\")\n",
    "\n",
    "# LASSO \n",
    "lasso = linear_model.Lasso(alpha=0.01)\n",
    "lasso.fit(X_smote, y_smote)\n",
    "y_pred = lasso.predict(X_OOS_test)\n",
    "# turn the continous value into classification via simple >= 0.5 is 1 \n",
    "y_pred_classification = [1 if x >= 0.5 else 0 for x in y_pred]\n",
    "print(\"LASSO score : \" , )\n",
    "print(\"LASSO Model Recall : \" , recall_score(y_OOS_test, y_pred_classification))\n",
    "print(\"LASSO Model Precision : \", precision_score(y_OOS_test,y_pred_classification))\n",
    "print(\"--\")\n",
    "\n",
    "# RIDGE\n",
    "ridge = linear_model.Ridge(alpha=3)\n",
    "ridge.fit(X_smote, y_smote)\n",
    "y_pred = ridge.predict(X_OOS_test)\n",
    "# turn the continous value into classification via simple >= 0.5 is 1 \n",
    "y_pred_classification = [1 if x >= 0.5 else 0 for x in y_pred]\n",
    "print(\"Ridge Model Recall : \" , recall_score(y_OOS_test, y_pred_classification))\n",
    "print(\"Ridge Model Precision : \", precision_score(y_OOS_test,y_pred_classification))"
   ]
  },
  {
   "cell_type": "markdown",
   "id": "7449ac5f",
   "metadata": {},
   "source": [
    "# Random Forest"
   ]
  },
  {
   "cell_type": "code",
   "execution_count": 128,
   "id": "ee4cb0fe",
   "metadata": {},
   "outputs": [
    {
     "name": "stdout",
     "output_type": "stream",
     "text": [
      "RND Forest Model Recall :  0.41611925214754925\n",
      "RND Forest Precision :  0.28455425017277125\n"
     ]
    }
   ],
   "source": [
    "\n",
    "random_forest = RandomForestClassifier(n_estimators = 50, max_depth=2, random_state=0)\n",
    "random_forest.fit(X_smote, y_smote)\n",
    "\n",
    "y_pred = random_forest.predict(X_OOS_test)\n",
    "print(\"RND Forest Model Recall : \" , recall_score(y_OOS_test, y_pred))\n",
    "print(\"RND Forest Precision : \", precision_score(y_OOS_test,y_pred))"
   ]
  },
  {
   "cell_type": "code",
   "execution_count": null,
   "id": "c1d6112d",
   "metadata": {},
   "outputs": [],
   "source": [
    "# Cross Validate Random Forest\n",
    "param_grid = [{'n_estimators': [200,225,250], 'max_depth' :[10,20,30]}]\n",
    "random_forest_cv = RandomForestClassifier()\n",
    "grid_cv = GridSearchCV(estimator=random_forest_cv, cv=cv, param_grid=param_grid, n_jobs = 3)\n",
    "grid_cv.fit(X_smote, y_smote)"
   ]
  },
  {
   "cell_type": "code",
   "execution_count": 28,
   "id": "8a96202c",
   "metadata": {},
   "outputs": [],
   "source": [
    "def create_dictionary(param_1,param_2):\n",
    "    result_dictionary = {} \n",
    "    for i in param_1: \n",
    "        result_dictionary[i] = {} \n",
    "        for j in param_2: \n",
    "                result_dictionary[i][j] = {} \n",
    "    return result_dictionary\n"
   ]
  },
  {
   "cell_type": "markdown",
   "id": "1e766132",
   "metadata": {},
   "source": [
    "### Random Forest Cross Validation"
   ]
  },
  {
   "cell_type": "code",
   "execution_count": 40,
   "id": "32cc6398",
   "metadata": {},
   "outputs": [],
   "source": [
    "# CV in Trees  \n",
    "# Set Hyperparameter (Lambda) values to cross validate here !!!!! \n",
    "max_depth = [2, 3, 4]\n",
    "number_of_trees = [5,10,15] \n",
    "\n",
    "cross_validate_result = create_dictionary(number_of_trees,max_depth)\n",
    "cross_validate_recall = create_dictionary(number_of_trees,max_depth)\n",
    "cross_validate_precision = create_dictionary(number_of_trees,max_depth) \n",
    "\n",
    "for tree in number_of_trees: \n",
    "    for depth in max_depth:\n",
    "        print('Depth of Tree : ', depth, ' Number of Trees ', tree)\n",
    "        accuracies = []\n",
    "        recall_scores = [] \n",
    "        precision_scores = [] \n",
    "        random_forest_cv = RandomForestClassifier(n_estimators = tree, max_depth=depth)\n",
    "        for train_index, test_index in cv.split(X_smote):\n",
    "            # change to loc to define the rows in the dataframe \n",
    "            X_cv_train, X_cv_test, y_cv_train, y_cv_test = X_smote.iloc[train_index], X_smote.iloc[test_index], y_smote.iloc[train_index], y_smote.iloc[test_index]\n",
    "            random_forest_cv.fit(X_cv_train, y_cv_train)\n",
    "            y_pred = random_forest_cv.predict(X_cv_test)\n",
    "\n",
    "            #Cross-Validation Prediction Error\n",
    "            score = random_forest_cv.score(X_cv_test, y_cv_test)\n",
    "            accuracies.append(score)\n",
    "            recall_scores.append(recall_score(y_cv_test, y_pred))\n",
    "            precision_scores.append(precision_score(y_cv_test,y_pred))\n",
    "        \n",
    "        cross_validate_result[tree][depth] = (sum(accuracies)/len(accuracies))\n",
    "        cross_validate_recall[tree][depth] = (sum(recall_scores)/len(recall_scores))\n",
    "        cross_validate_precision[tree][depth] = (sum(precision_scores)/len(precision_scores))\n",
    "\n",
    "        print(\"Accuracy : \" + str((sum(accuracies)/len(accuracies))))\n",
    "        print(\"Precision : \" + str((sum(recall_scores)/len(recall_scores))))\n",
    "        print(\"Recall : \" + str((sum(precision_scores)/len(precision_scores))))\n",
    "        print() \n",
    "# At the end you'll see what the value of each LASSO paramter is\n",
    "print('------------------')\n",
    "print('Accuracy : ', cross_validate_result)\n",
    "print('Precision : ',cross_validate_precision)\n",
    "print('Recall : ',cross_validate_recall)"
   ]
  },
  {
   "cell_type": "markdown",
   "id": "032dd257",
   "metadata": {},
   "source": [
    "# KNN "
   ]
  },
  {
   "cell_type": "code",
   "execution_count": 22,
   "id": "b079225a",
   "metadata": {},
   "outputs": [
    {
     "name": "stdout",
     "output_type": "stream",
     "text": [
      "KNN Accuracy :  0.6375430016164463\n",
      "KNN Recall :  0.4373420919656392\n",
      "KNN Precision :  0.20984361740817067\n"
     ]
    }
   ],
   "source": [
    "knn = KNeighborsClassifier(n_neighbors=5)\n",
    "knn.fit(X_smote, y_smote)\n",
    "# Make predictions on the test data\n",
    "y_pred = knn.predict(X_OOS_test)\n",
    "# Evaluate the accuracy of the classifier\n",
    "print(\"KNN Accuracy : \" , accuracy_score(y_OOS_test, y_pred))\n",
    "print(\"KNN Recall : \" , recall_score(y_OOS_test, y_pred))\n",
    "print(\"KNN Precision : \", precision_score(y_OOS_test,y_pred))"
   ]
  },
  {
   "cell_type": "markdown",
   "id": "318e506b",
   "metadata": {},
   "source": [
    "## Cross Validation for KNN "
   ]
  },
  {
   "cell_type": "code",
   "execution_count": 42,
   "id": "78db3fff",
   "metadata": {},
   "outputs": [
    {
     "name": "stdout",
     "output_type": "stream",
     "text": [
      "Number of Neighbours :  1\n",
      "Accuracy : 0.7491306930716343\n",
      "Precision : 0.7913814929899982\n",
      "Recall : 0.7297182708745649\n",
      "\n",
      "Number of Neighbours :  2\n",
      "Accuracy : 0.7208912490896946\n",
      "Precision : 0.6143489063987174\n",
      "Recall : 0.7807035859110011\n",
      "\n",
      "Number of Neighbours :  3\n",
      "Accuracy : 0.7284461019183828\n",
      "Precision : 0.7750719833779053\n",
      "Recall : 0.7089621936913701\n",
      "\n",
      "------------------\n",
      "Accuracy :  {1: 0.7491306930716343, 2: 0.7208912490896946, 3: 0.7284461019183828}\n",
      "Precision :  {1: 0.7297182708745649, 2: 0.7807035859110011, 3: 0.7089621936913701}\n",
      "Recall :  {1: 0.7913814929899982, 2: 0.6143489063987174, 3: 0.7750719833779053}\n"
     ]
    }
   ],
   "source": [
    "# CV in Trees \n",
    "# Set Hyperparameter (Lambda) values to cross validate here !!!!!\n",
    "number_of_neighbours = [1,2,3] \n",
    "\n",
    "cross_validate_result = {}\n",
    "cross_validate_recall = {} \n",
    "cross_validate_precision = {} \n",
    "\n",
    "for neighbour in number_of_neighbours: \n",
    "    print('Number of Neighbours : ', neighbour)\n",
    "    accuracies = []\n",
    "    recall_scores = [] \n",
    "    precision_scores = [] \n",
    "    knn = KNeighborsClassifier(n_neighbors=neighbour)\n",
    "    for train_index, test_index in cv.split(X_smote):\n",
    "        # change to loc to define the rows in the dataframe \n",
    "        X_cv_train, X_cv_test, y_cv_train, y_cv_test = X_smote.iloc[train_index], X_smote.iloc[test_index], y_smote.iloc[train_index], y_smote.iloc[test_index]\n",
    "        knn.fit(X_cv_train, y_cv_train)\n",
    "        y_pred = knn.predict(X_cv_test)\n",
    "\n",
    "        #Cross-Validation Prediction Error\n",
    "        score = knn.score(X_cv_test, y_cv_test)\n",
    "        accuracies.append(score)\n",
    "        recall_scores.append(recall_score(y_cv_test, y_pred))\n",
    "        precision_scores.append(precision_score(y_cv_test,y_pred))\n",
    "    \n",
    "    cross_validate_result[neighbour] = (sum(accuracies)/len(accuracies))\n",
    "    cross_validate_recall[neighbour] = (sum(recall_scores)/len(recall_scores))\n",
    "    cross_validate_precision[neighbour] = (sum(precision_scores)/len(precision_scores))\n",
    "\n",
    "    print(\"Accuracy : \" + str((sum(accuracies)/len(accuracies))))\n",
    "    print(\"Precision : \" + str((sum(recall_scores)/len(recall_scores))))\n",
    "    print(\"Recall : \" + str((sum(precision_scores)/len(precision_scores))))\n",
    "    print() \n",
    "# At the end you'll see what the value of each LASSO paramter is\n",
    "print('------------------')\n",
    "print('Accuracy : ', cross_validate_result)\n",
    "print('Precision : ',cross_validate_precision)\n",
    "print('Recall : ',cross_validate_recall)"
   ]
  },
  {
   "cell_type": "markdown",
   "id": "fb067bd1",
   "metadata": {},
   "source": [
    "# LASSO and Random Forest"
   ]
  },
  {
   "cell_type": "code",
   "execution_count": 63,
   "id": "bdcf95c9",
   "metadata": {},
   "outputs": [
    {
     "name": "stdout",
     "output_type": "stream",
     "text": [
      "LASSO score : \n",
      "LASSO Model Recall :  1.0\n",
      "LASSO Model Precision :  0.1640485762838314\n",
      "--\n",
      "Non-zero Lasso Coefficients:\n",
      "Series([], dtype: float64)\n"
     ]
    }
   ],
   "source": [
    "# LASSO \n",
    "lasso = linear_model.Lasso()\n",
    "lasso.fit(X_smote, y_smote)\n",
    "y_pred = lasso.predict(X_OOS_test)\n",
    "# turn the continous value into classification via simple >= 0.5 is 1 \n",
    "y_pred_classification = [1 if x >= 0.5 else 0 for x in y_pred]\n",
    "print(\"LASSO score : \" , )\n",
    "print(\"LASSO Model Recall : \" , recall_score(y_OOS_test, y_pred_classification))\n",
    "print(\"LASSO Model Precision : \", precision_score(y_OOS_test,y_pred_classification))\n",
    "print(\"--\")\n",
    "\n",
    "# See LASSO coefficient that is 0 \n",
    "lasso_coefficients = pd.Series(lasso.coef_)\n",
    "non_zero_lasso_coefficients = lasso_coefficients[lasso_coefficients != 0]\n",
    "# Print the non-zero coefficients\n",
    "print(\"Non-zero Lasso Coefficients:\")\n",
    "print(non_zero_lasso_coefficients)\n"
   ]
  },
  {
   "cell_type": "code",
   "execution_count": 48,
   "id": "e3f75b5d",
   "metadata": {},
   "outputs": [
    {
     "name": "stdout",
     "output_type": "stream",
     "text": [
      "RND Forest Model Recall :  0.6139464375947449\n",
      "RND Forest Precision :  0.23610571317528178\n"
     ]
    }
   ],
   "source": [
    "X_lasso_rf_train = X_smote[['loan_amount','property_value','income']]\n",
    "X_lasso_rf_test = X_OOS_test[['loan_amount','property_value','income']]\n",
    "random_forest = RandomForestClassifier(n_estimators = 100, max_depth=5, random_state=0)\n",
    "random_forest.fit(X_lasso_rf_train, y_smote)\n",
    "y_pred = random_forest.predict(X_lasso_rf_test)\n",
    "print(\"RND Forest Model Recall : \" , recall_score(y_OOS_test, y_pred))\n",
    "print(\"RND Forest Precision : \", precision_score(y_OOS_test,y_pred))"
   ]
  },
  {
   "cell_type": "markdown",
   "id": "c07f5f6a",
   "metadata": {},
   "source": [
    "## Cross Validation for LASSO and randomforest"
   ]
  },
  {
   "cell_type": "code",
   "execution_count": 64,
   "id": "778dc1e1",
   "metadata": {},
   "outputs": [
    {
     "name": "stdout",
     "output_type": "stream",
     "text": [
      "Depth of Tree :  2  Number of Trees  5\n",
      "Accuracy : 0.5898970807910194\n",
      "Precision : 0.5600514433592819\n",
      "Recall : 0.5960859138716283\n",
      "\n",
      "Depth of Tree :  3  Number of Trees  5\n",
      "Accuracy : 0.6028969716073906\n",
      "Precision : 0.6320289001728526\n",
      "Recall : 0.5975296460241809\n",
      "\n",
      "Depth of Tree :  4  Number of Trees  5\n",
      "Accuracy : 0.6066650987112998\n",
      "Precision : 0.598612368126647\n",
      "Recall : 0.6089193795794439\n",
      "\n",
      "Depth of Tree :  2  Number of Trees  10\n",
      "Accuracy : 0.5953731298159273\n",
      "Precision : 0.6041965507061027\n",
      "Recall : 0.593735225239221\n",
      "\n",
      "Depth of Tree :  3  Number of Trees  10\n",
      "Accuracy : 0.6015109811705502\n",
      "Precision : 0.6334501039068922\n",
      "Recall : 0.5955423320631559\n",
      "\n",
      "Depth of Tree :  4  Number of Trees  10\n",
      "Accuracy : 0.6084904183967266\n",
      "Precision : 0.6153576420941061\n",
      "Recall : 0.6072664926564537\n",
      "\n",
      "Depth of Tree :  2  Number of Trees  15\n",
      "Accuracy : 0.5956700913690367\n",
      "Precision : 0.5658451977712038\n",
      "Recall : 0.6022292393645742\n",
      "\n",
      "Depth of Tree :  3  Number of Trees  15\n",
      "Accuracy : 0.603589981948197\n",
      "Precision : 0.6299179156177706\n",
      "Recall : 0.5985581894898633\n",
      "\n",
      "Depth of Tree :  4  Number of Trees  15\n",
      "Accuracy : 0.6090163273265083\n",
      "Precision : 0.6244746885627103\n",
      "Recall : 0.60579800503992\n",
      "\n",
      "------------------\n",
      "Accuracy :  {5: {2: 0.5898970807910194, 3: 0.6028969716073906, 4: 0.6066650987112998}, 10: {2: 0.5953731298159273, 3: 0.6015109811705502, 4: 0.6084904183967266}, 15: {2: 0.5956700913690367, 3: 0.603589981948197, 4: 0.6090163273265083}}\n",
      "Precision :  {5: {2: 0.5960859138716283, 3: 0.5975296460241809, 4: 0.6089193795794439}, 10: {2: 0.593735225239221, 3: 0.5955423320631559, 4: 0.6072664926564537}, 15: {2: 0.6022292393645742, 3: 0.5985581894898633, 4: 0.60579800503992}}\n",
      "Recall :  {5: {2: 0.5600514433592819, 3: 0.6320289001728526, 4: 0.598612368126647}, 10: {2: 0.6041965507061027, 3: 0.6334501039068922, 4: 0.6153576420941061}, 15: {2: 0.5658451977712038, 3: 0.6299179156177706, 4: 0.6244746885627103}}\n"
     ]
    }
   ],
   "source": [
    "# CV in Trees  \n",
    "# Set Hyperparameter (Lambda) values to cross validate here !!!!! \n",
    "max_depth = [2, 3, 4]\n",
    "number_of_trees = [5,10,15] \n",
    "\n",
    "cross_validate_result = create_dictionary(number_of_trees,max_depth)\n",
    "cross_validate_recall = create_dictionary(number_of_trees,max_depth)\n",
    "cross_validate_precision = create_dictionary(number_of_trees,max_depth) \n",
    "\n",
    "for tree in number_of_trees: \n",
    "    for depth in max_depth:\n",
    "        print('Depth of Tree : ', depth, ' Number of Trees ', tree)\n",
    "        accuracies = []\n",
    "        recall_scores = [] \n",
    "        precision_scores = [] \n",
    "        random_forest_cv = RandomForestClassifier(n_estimators = tree, max_depth=depth)\n",
    "        for train_index, test_index in cv.split(X_smote):\n",
    "            # change to loc to define the rows in the dataframe \n",
    "            X_cv_train, X_cv_test, y_cv_train, y_cv_test = X_lasso_rf_train.iloc[train_index], X_lasso_rf_train.iloc[test_index], y_smote.iloc[train_index], y_smote.iloc[test_index]\n",
    "            random_forest_cv.fit(X_cv_train, y_cv_train)\n",
    "            y_pred = random_forest_cv.predict(X_cv_test)\n",
    "\n",
    "            #Cross-Validation Prediction Error\n",
    "            score = random_forest_cv.score(X_cv_test, y_cv_test)\n",
    "            accuracies.append(score)\n",
    "            recall_scores.append(recall_score(y_cv_test, y_pred))\n",
    "            precision_scores.append(precision_score(y_cv_test,y_pred))\n",
    "        \n",
    "        cross_validate_result[tree][depth] = (sum(accuracies)/len(accuracies))\n",
    "        cross_validate_recall[tree][depth] = (sum(recall_scores)/len(recall_scores))\n",
    "        cross_validate_precision[tree][depth] = (sum(precision_scores)/len(precision_scores))\n",
    "\n",
    "        print(\"Accuracy : \" + str((sum(accuracies)/len(accuracies))))\n",
    "        print(\"Precision : \" + str((sum(recall_scores)/len(recall_scores))))\n",
    "        print(\"Recall : \" + str((sum(precision_scores)/len(precision_scores))))\n",
    "        print() \n",
    "# At the end you'll see what the value of each LASSO paramter is\n",
    "print('------------------')\n",
    "print('Accuracy : ', cross_validate_result)\n",
    "print('Precision : ',cross_validate_precision)\n",
    "print('Recall : ',cross_validate_recall)"
   ]
  }
 ],
 "metadata": {
  "kernelspec": {
   "display_name": "Python 3 (ipykernel)",
   "language": "python",
   "name": "python3"
  },
  "language_info": {
   "codemirror_mode": {
    "name": "ipython",
    "version": 3
   },
   "file_extension": ".py",
   "mimetype": "text/x-python",
   "name": "python",
   "nbconvert_exporter": "python",
   "pygments_lexer": "ipython3",
   "version": "3.11.5"
  }
 },
 "nbformat": 4,
 "nbformat_minor": 5
}
