{
 "cells": [
  {
   "cell_type": "code",
   "execution_count": 97,
   "id": "0e0dc808",
   "metadata": {
    "scrolled": true
   },
   "outputs": [],
   "source": [
    "# import libraries\n",
    "\n",
    "# handle dataset \n",
    "import pandas as pd\n",
    "import numpy as np\n",
    "import matplotlib.pyplot as plt\n",
    "import seaborn as sns\n",
    "import plotly.express as px\n",
    "\n",
    "from sklearn.model_selection import KFold\n",
    "from sklearn.linear_model import LogisticRegression\n",
    "from sklearn.linear_model import LinearRegression, Lasso, Ridge\n",
    "from sklearn.metrics import recall_score, precision_score, f1_score\n",
    "from sklearn.ensemble import RandomForestClassifier\n",
    "from sklearn.model_selection import GridSearchCV, train_test_split\n",
    "from sklearn.metrics import recall_score, precision_score, f1_score, accuracy_score\n",
    "from sklearn.neighbors import KNeighborsClassifier\n",
    "\n",
    "from tabulate import tabulate\n",
    "\n",
    "from sklearn import linear_model\n",
    "\n",
    "from imblearn.over_sampling import SMOTE\n",
    "# if there is an error, solve by downgrading to install scikit-learn==1.2.2 \n",
    "# ''' steps : \n",
    "# 1. install pip \n",
    "# 2. uninstall sci-kit \n",
    "# 3. uninstall imblearn\n",
    "# 4. install sci-kit 1.2.2 \n",
    "# 5. install imblearn \n",
    "# '''\n",
    "\n",
    "\n",
    "# Data set from https://www.kaggle.com/datasets/yasserh/loan-default-dataset/data"
   ]
  },
  {
   "cell_type": "code",
   "execution_count": 101,
   "id": "2915229e",
   "metadata": {},
   "outputs": [
    {
     "name": "stdout",
     "output_type": "stream",
     "text": [
      "Number of rows :  120635\n",
      "Index(['loan_limit', 'Gender', 'approv_in_adv', 'Credit_Worthiness',\n",
      "       'business_or_commercial', 'loan_amount', 'term', 'Neg_ammortization',\n",
      "       'interest_only', 'lump_sum_payment', 'property_value', 'occupancy_type',\n",
      "       'income', 'credit_type', 'Credit_Score', 'co-applicant_credit_type',\n",
      "       'age', 'submission_of_application', 'LTV', 'Region', 'Status', 'dtir1'],\n",
      "      dtype='object')\n",
      "Status\n",
      "0    100978\n",
      "1     19657\n",
      "Name: count, dtype: int64\n"
     ]
    }
   ],
   "source": [
    "# split train test dataset \n",
    "\n",
    "df = pd.read_csv('Loan_Default.csv')\n",
    "# remove some variables that are redundant \n",
    "# year, ID\n",
    "# Interest_rate_spread and rate_of_interest are dropped due to the fact that their values are NA where the loan has defaulted \n",
    "# open credit , secured by, total units : only has one value or too few observations \n",
    "df = df.drop(['year', 'ID', 'loan_type', 'loan_purpose', 'Interest_rate_spread', \n",
    "              'rate_of_interest', 'open_credit','Upfront_charges','construction_type', \n",
    "              'Secured_by', 'Security_Type','total_units'], axis=1)\n",
    "# print(df['Status'].value_counts())\n",
    "# print(df.isna().sum())\n",
    "\n",
    "# Assumption 2 : We focus on mortgage loans \n",
    "df = df.dropna(subset=[\"property_value\"])\n",
    "# Assumption 3 : drop approv in adv that is NA (only small set of samples)\n",
    "df = df.dropna(subset=[\"term\"])\n",
    "df = df.dropna(subset=[\"loan_limit\"])\n",
    "df = df.dropna(subset=[\"approv_in_adv\"])\n",
    "df = df.dropna(subset=[\"Neg_ammortization\"])\n",
    "df = df.dropna(subset=[\"income\"])\n",
    "# Drop rows where sex is not available \n",
    "df = df.drop(df[df['Gender'] == 'Not Available'].index)\n",
    "\n",
    "\n",
    "print(\"Number of rows : \" , len(df.index))\n",
    "# LTV = Loan to Value -> compares the loan value to the value of the asset being purchased as a part of the loan \n",
    "# Property Value \n",
    "\n",
    "print(df.columns)\n",
    "print(df['Status'].value_counts())\n",
    "column_names = df.columns\n",
    "        \n"
   ]
  },
  {
   "cell_type": "code",
   "execution_count": 40,
   "id": "eaf9c25d",
   "metadata": {},
   "outputs": [
    {
     "data": {
      "text/plain": [
       "loan_limit  Gender  approv_in_adv  Credit_Worthiness  business_or_commercial  loan_amount  term   Neg_ammortization  interest_only  lump_sum_payment  property_value  occupancy_type  income  credit_type  Credit_Score  co-applicant_credit_type  age    submission_of_application  LTV    Region  Status  dtir1\n",
       "False       False   False          False              False                   False        False  False              False          False             False           False           False   False        False         False                     False  False                      False  False   False   False    120635\n",
       "Name: count, dtype: int64"
      ]
     },
     "execution_count": 40,
     "metadata": {},
     "output_type": "execute_result"
    }
   ],
   "source": [
    "df.isna().value_counts()"
   ]
  },
  {
   "cell_type": "code",
   "execution_count": 41,
   "id": "0968329f",
   "metadata": {},
   "outputs": [
    {
     "name": "stdout",
     "output_type": "stream",
     "text": [
      "loan_limit\n",
      "cf     112768\n",
      "ncf      7867\n",
      "Name: count, dtype: int64\n"
     ]
    }
   ],
   "source": [
    "# print(df['Neg_ammortization'].head())\n",
    "\n",
    "# for column_name in df.columns:\n",
    "#     # Count the number of NA values in the current column\n",
    "#     na_count = df[column_name].isna().sum()\n",
    "#     if na_count > 0 : \n",
    "#     # Print the result\n",
    "#         print(f\"The column '{column_name}' has {na_count} NA values.\")\n",
    "\n",
    "# print(df.columns)\n",
    "print(df['loan_limit'].value_counts())\n"
   ]
  },
  {
   "cell_type": "code",
   "execution_count": 42,
   "id": "dc92c7d4",
   "metadata": {},
   "outputs": [],
   "source": [
    "\n",
    "categorical_columns = ['loan_limit', 'Gender', 'approv_in_adv', 'Credit_Worthiness',\n",
    "       'business_or_commercial', 'Neg_ammortization',\n",
    "       'interest_only', 'lump_sum_payment', 'occupancy_type',\n",
    "        'credit_type', 'co-applicant_credit_type',\n",
    "       'age', 'submission_of_application', 'Region']\n",
    "\n",
    "for i in categorical_columns: \n",
    "    df = pd.concat([df,pd.get_dummies(df[i],drop_first=True, prefix=i)],axis=1)\n",
    "    df = df.drop(i,axis=1)\n"
   ]
  },
  {
   "cell_type": "code",
   "execution_count": 43,
   "id": "f4481fb7",
   "metadata": {},
   "outputs": [
    {
     "data": {
      "image/png": "[encoded data removed]",
      "text/plain": [
       "<Figure size 2000x1500 with 9 Axes>"
      ]
     },
     "metadata": {},
     "output_type": "display_data"
    }
   ],
   "source": [
    "df.hist(bins = 50, figsize = (20, 15))\n",
    "plt.show()"
   ]
  },
  {
   "cell_type": "markdown",
   "id": "b2c15010",
   "metadata": {},
   "source": [
    "# Split Train Test dataset\n",
    "\n",
    "So by looking at the data, we see there are two main types of loans : property loan and non-property loan. \n"
   ]
  },
  {
   "cell_type": "code",
   "execution_count": 44,
   "id": "66b3145c",
   "metadata": {},
   "outputs": [],
   "source": [
    "# define X and y variables as dataframe \n",
    "y = df['Status']\n",
    "X = df.drop('Status',axis=1)\n",
    "X_train, X_OOS_test, y_train, y_OOS_test = train_test_split(X, y, test_size=0.20, random_state=66)"
   ]
  },
  {
   "cell_type": "code",
   "execution_count": 13,
   "id": "9c4b9389",
   "metadata": {},
   "outputs": [],
   "source": [
    "# non_numeric_columns = X_train.select_dtypes(exclude=['float64', 'int64']).columns\n",
    "# print(\"Non-numeric columns:\", non_numeric_columns)"
   ]
  },
  {
   "cell_type": "markdown",
   "id": "d3e1ae90",
   "metadata": {},
   "source": [
    "## Over Sampling \n"
   ]
  },
  {
   "cell_type": "code",
   "execution_count": 45,
   "id": "1a528c4d",
   "metadata": {},
   "outputs": [],
   "source": [
    "# Over sample using SMOTE\n",
    "# -- by inspecting the data, we see that the minority class is extremely class (fraud \"Class\" == 1)\n",
    "sm = SMOTE(random_state=42)\n",
    "X_smote, y_smote = sm.fit_resample(X_train, y_train)"
   ]
  },
  {
   "cell_type": "code",
   "execution_count": 46,
   "id": "f27f4bf8",
   "metadata": {},
   "outputs": [
    {
     "name": "stdout",
     "output_type": "stream",
     "text": [
      "Status\n",
      "0    80809\n",
      "1    80809\n",
      "Name: count, dtype: int64\n"
     ]
    }
   ],
   "source": [
    "# -- Code to Inspect the data set -- \n",
    "# df_oversampled = X_smote\n",
    "# df_oversampled['Outcome_Variable'] = y_smote\n",
    "# df_oversampled\n",
    "# fig, ax = plt.subplots(figsize=(10, 8))\n",
    "# df_oversampled['Outcome_Variable'].value_counts().plot(kind='bar', ax=ax, fontsize=14)\n",
    "# ax.set_title('Oversampled Dataset', fontsize=16)\n",
    "# ax.set_ylabel('Observation counts', fontsize=14)\n",
    "# ax.set_xlabel('Class', fontsize=14)\n",
    "# plt.show()\n",
    "\n",
    "print(y_smote.value_counts())\n"
   ]
  },
  {
   "cell_type": "code",
   "execution_count": 47,
   "id": "5d5baf83",
   "metadata": {},
   "outputs": [],
   "source": [
    "# Set up K-Fold Cross Validation \n",
    "n_splits = 5\n",
    "shuffle = True\n",
    "random_state = 809\n",
    "cv = KFold(n_splits=n_splits, shuffle=shuffle, random_state=random_state)\n",
    "# plot = plot_cv_indices(cv, X_smote, y_smote, n_splits)"
   ]
  },
  {
   "cell_type": "markdown",
   "id": "2991280a",
   "metadata": {},
   "source": [
    "## Model 1 : Logistic Regression "
   ]
  },
  {
   "cell_type": "code",
   "execution_count": 49,
   "id": "abb0ebd3",
   "metadata": {},
   "outputs": [],
   "source": [
    "def plot_cv_indices(cv, X, y, n_splits, lw=10):\n",
    "    '''\n",
    "    This function plots the Cross validation indices.\n",
    "    '''\n",
    "    \n",
    "    fig, ax = plt.subplots(figsize = (15,8))\n",
    "    # Generate the training/testing visualizations for each CV split\n",
    "    for ii, (tr, tt) in enumerate(cv.split(X=X, y=y)):\n",
    "        # Fill in indices with the training/test groups\n",
    "        indices = np.array([np.nan] * len(X))\n",
    "        indices[tt] = 1\n",
    "        indices[tr] = 0\n",
    "\n",
    "        # Visualize the results\n",
    "        ax.scatter(range(len(indices)), [ii + .5] * len(indices),\n",
    "                   c=indices, marker='_', lw=lw, cmap=plt.cm.coolwarm,\n",
    "                   vmin=-.2, vmax=1.2)\n",
    "\n",
    "    # Plot the data classes\n",
    "    ax.scatter(range(len(X)), [ii + 1.5] * len(X), c=y, marker='_', lw=lw, cmap=plt.cm.Paired)\n",
    "\n",
    "    # Formatting\n",
    "    yticklabels = list(range(n_splits)) + ['Class']\n",
    "    ax.set(yticks=np.arange(n_splits+1) + .5, yticklabels=yticklabels,\n",
    "           xlabel='Sample index', ylabel=\"CV iteration\",\n",
    "           ylim=[n_splits+2.2, -.2])\n",
    "    ax.set_title('{}'.format(type(cv).__name__), fontsize=15)\n",
    "    return ax"
   ]
  },
  {
   "cell_type": "code",
   "execution_count": 50,
   "id": "5781f426",
   "metadata": {},
   "outputs": [
    {
     "name": "stdout",
     "output_type": "stream",
     "text": [
      "Logistic Model score : 0.5554772661333776\n",
      "Logistic Model Recall :  0.6205154118241536\n",
      "Logistic Model Precision :  0.21029197705282987\n",
      "Probability if you only predict 0s  0.998\n"
     ]
    },
    {
     "name": "stderr",
     "output_type": "stream",
     "text": [
      "/Users/norawang/anaconda3/lib/python3.11/site-packages/sklearn/linear_model/_logistic.py:469: ConvergenceWarning: lbfgs failed to converge (status=1):\n",
      "STOP: TOTAL NO. of ITERATIONS REACHED LIMIT.\n",
      "\n",
      "Increase the number of iterations (max_iter) or scale the data as shown in:\n",
      "    https://scikit-learn.org/stable/modules/preprocessing.html\n",
      "Please also refer to the documentation for alternative solver options:\n",
      "    https://scikit-learn.org/stable/modules/linear_model.html#logistic-regression\n",
      "  n_iter_i = _check_optimize_result(\n"
     ]
    }
   ],
   "source": [
    "model = LogisticRegression(solver='lbfgs', max_iter=300)\n",
    "model.fit(X_smote, y_smote)    \n",
    "score_OOS = model.score(X_OOS_test, y_OOS_test)\n",
    "print (\"Logistic Model score :\" , score_OOS)\n",
    "y_pred = model.predict(X_OOS_test)\n",
    "print(\"Logistic Model Recall : \" , recall_score(y_OOS_test, y_pred))\n",
    "print(\"Logistic Model Precision : \", precision_score(y_OOS_test,y_pred))\n",
    "print(\"Probability if you only predict 0s \", 1-round(95/56867,3))"
   ]
  },
  {
   "cell_type": "markdown",
   "id": "37c02911",
   "metadata": {},
   "source": [
    "\n",
    "\n",
    "## Model 2 : Lasso "
   ]
  },
  {
   "cell_type": "code",
   "execution_count": 113,
   "id": "1d072777",
   "metadata": {},
   "outputs": [
    {
     "name": "stdout",
     "output_type": "stream",
     "text": [
      "Training Lasso Lambda Value :  0.001\n",
      "Lambda Value Accuracy : 0.001 0.44711725719929485\n",
      "Lambda Value Precision : 0.001 0.8703847008502779\n",
      "Lambda Value Recall : 0.001 0.7694027479516002\n",
      "\n",
      "Training Lasso Lambda Value :  0.003\n",
      "Lambda Value Accuracy : 0.003 0.43493860111015775\n",
      "Lambda Value Precision : 0.003 0.8537850357112806\n",
      "Lambda Value Recall : 0.003 0.7697921722944345\n",
      "\n",
      "Training Lasso Lambda Value :  0.005\n",
      "Lambda Value Accuracy : 0.005 0.4239234748471895\n",
      "Lambda Value Precision : 0.005 0.8412426886210259\n",
      "Lambda Value Recall : 0.005 0.7731679147348525\n",
      "\n",
      "Training Lasso Lambda Value :  0.008\n",
      "Lambda Value Accuracy : 0.008 0.4048691724446415\n",
      "Lambda Value Precision : 0.008 0.8249883663952179\n",
      "Lambda Value Recall : 0.008 0.7795047547230048\n",
      "\n",
      "Training Lasso Lambda Value :  0.01\n",
      "Lambda Value Accuracy : 0.01 0.38834371860427935\n",
      "Lambda Value Precision : 0.01 0.8130769483463176\n",
      "Lambda Value Recall : 0.01 0.7797380844218446\n",
      "\n",
      "Training Lasso Lambda Value :  0.013\n",
      "Lambda Value Accuracy : 0.013 0.3581583059109517\n",
      "Lambda Value Precision : 0.013 0.7926545875240534\n",
      "Lambda Value Recall : 0.013 0.7805170804603678\n",
      "\n",
      "Training Lasso Lambda Value :  0.015\n",
      "Lambda Value Accuracy : 0.015 0.33590323983612913\n",
      "Lambda Value Precision : 0.015 0.7772112463681267\n",
      "Lambda Value Recall : 0.015 0.7791849572302184\n",
      "\n",
      "Training Lasso Lambda Value :  0.018\n",
      "Lambda Value Accuracy : 0.018 0.30748317806650516\n",
      "Lambda Value Precision : 0.018 0.7608589342270327\n",
      "Lambda Value Recall : 0.018 0.7778496486217394\n",
      "\n",
      "Training Lasso Lambda Value :  0.02\n",
      "Lambda Value Accuracy : 0.02 0.2866756315066489\n",
      "Lambda Value Precision : 0.02 0.7491052442881918\n",
      "Lambda Value Recall : 0.02 0.7751103779295083\n",
      "\n",
      "------------------\n",
      "Accuracy :  {0.001: 0.44711725719929485, 0.003: 0.43493860111015775, 0.005: 0.4239234748471895, 0.008: 0.4048691724446415, 0.01: 0.38834371860427935, 0.013: 0.3581583059109517, 0.015: 0.33590323983612913, 0.018: 0.30748317806650516, 0.02: 0.2866756315066489}\n",
      "Precision :  {0.001: 0.8703847008502779, 0.003: 0.8537850357112806, 0.005: 0.8412426886210259, 0.008: 0.8249883663952179, 0.01: 0.8130769483463176, 0.013: 0.7926545875240534, 0.015: 0.7772112463681267, 0.018: 0.7608589342270327, 0.02: 0.7491052442881918}\n",
      "Recall :  {0.001: 0.7694027479516002, 0.003: 0.7697921722944345, 0.005: 0.7731679147348525, 0.008: 0.7795047547230048, 0.01: 0.7797380844218446, 0.013: 0.7805170804603678, 0.015: 0.7791849572302184, 0.018: 0.7778496486217394, 0.02: 0.7751103779295083}\n"
     ]
    }
   ],
   "source": [
    "# Model 2 : LASSO \n",
    "# Cross Validate the penalty term in lasso\n",
    "cross_validate_result = {}\n",
    "cross_validate_recall = {} \n",
    "cross_validate_precision = {} \n",
    "\n",
    "# Set Hyperparameter (Lambda) values to cross validate here !!!!! \n",
    "lambdas = [0.001, 0.003, 0.005, 0.008,0.01, 0.013, 0.015, 0.018,0.02]\n",
    "for lambda_value in lambdas:\n",
    "    print('Training Lasso Lambda Value : ', lambda_value)\n",
    "    accuracies = []\n",
    "    recall_scores = [] \n",
    "    precision_scores = [] \n",
    "    lasso = linear_model.Lasso(alpha=lambda_value)\n",
    "    for train_index, test_index in cv.split(X_smote):\n",
    "        # change to loc to define the rows in the dataframe \n",
    "        X_cv_train, X_cv_test, y_cv_train, y_cv_test = X_smote.iloc[train_index], X_smote.iloc[test_index], y_smote.iloc[train_index], y_smote.iloc[test_index]\n",
    "        lasso.fit(X_cv_train, y_cv_train)\n",
    "        y_pred = lasso.predict(X_cv_test)\n",
    "        y_pred_classification = [1 if x >= 0.5 else 0 for x in y_pred]\n",
    "\n",
    "        #Cross-Validation Prediction Error\n",
    "        score = lasso.score(X_cv_test, y_cv_test)\n",
    "        accuracies.append(score)\n",
    "        recall_scores.append(recall_score(y_cv_test, y_pred_classification))\n",
    "        precision_scores.append(precision_score(y_cv_test,y_pred_classification))\n",
    "\n",
    "    cross_validate_result[lambda_value] = (sum(accuracies)/len(accuracies))\n",
    "    cross_validate_recall[lambda_value] = (sum(recall_scores)/len(recall_scores))\n",
    "    cross_validate_precision[lambda_value] = (sum(precision_scores)/len(precision_scores))\n",
    "\n",
    "    print(\"Lambda Value Accuracy : \" + str(lambda_value) + \" \" + str((sum(accuracies)/len(accuracies))))\n",
    "    print(\"Lambda Value Precision : \" + str(lambda_value) + \" \" + str((sum(precision_scores)/len(precision_scores))))\n",
    "    print(\"Lambda Value Recall : \" + str(lambda_value) + \" \" + str((sum(recall_scores)/len(recall_scores))))\n",
    "    print() \n",
    "# At the end you'll see what the value of each LASSO paramter is\n",
    "print('------------------')\n",
    "print('Accuracy : ', cross_validate_result)\n",
    "print('Precision : ',cross_validate_precision)\n",
    "print('Recall : ',cross_validate_recall)"
   ]
  },
  {
   "cell_type": "code",
   "execution_count": 114,
   "id": "b58b1a11",
   "metadata": {},
   "outputs": [
    {
     "data": {
      "image/png": "[encoded data removed]",
      "text/plain": [
       "<Figure size 1000x600 with 1 Axes>"
      ]
     },
     "metadata": {},
     "output_type": "display_data"
    }
   ],
   "source": [
    "# Precision and Recall line graph\n",
    "plt.figure(figsize=(10, 6))\n",
    "\n",
    "for metric, scores in zip(['Precision', 'Recall'], [cross_validate_precision, cross_validate_recall]):\n",
    "    lambda_values = sorted(scores.keys())\n",
    "    score_values = [scores[lambda_value] for lambda_value in lambda_values]\n",
    "    plt.plot(lambda_values, score_values, marker='o', label=f'{metric}')\n",
    "\n",
    "plt.title('Cross Validation Precision and Recall vs Lambda')\n",
    "plt.xlabel('Lambda')\n",
    "plt.ylabel('Score')\n",
    "plt.legend()\n",
    "plt.grid(True)\n",
    "plt.show()"
   ]
  },
  {
   "cell_type": "code",
   "execution_count": 96,
   "id": "5ee5ac3c",
   "metadata": {},
   "outputs": [
    {
     "name": "stdout",
     "output_type": "stream",
     "text": [
      "[-1.23082945e-07  1.64307024e-04  1.32119328e-07 -4.98578094e-06\n",
      "  1.94869111e-05  3.80949014e-03  2.78802466e-03  1.72868574e-02\n",
      "  1.09463985e-01  1.84223402e-01  8.85510584e-02  0.00000000e+00\n",
      "  0.00000000e+00  0.00000000e+00 -0.00000000e+00  0.00000000e+00\n",
      " -0.00000000e+00  0.00000000e+00  0.00000000e+00  1.17510773e-01\n",
      "  0.00000000e+00  1.12139996e-01  0.00000000e+00  1.57753509e-01\n",
      "  1.94371593e-01  2.13297261e-01  1.86620380e-01  0.00000000e+00\n",
      "  1.20532122e-01  1.83850935e-01  0.00000000e+00  2.83406674e-02\n",
      "  1.08889037e-01]\n",
      "loan_limit  :  -1.2308294489074893e-07\n",
      "Gender  :  0.00016430702387830202\n",
      "approv_in_adv  :  1.3211932795580533e-07\n",
      "Credit_Worthiness  :  -4.98578094096384e-06\n",
      "business_or_commercial  :  1.9486911147414516e-05\n",
      "loan_amount  :  0.0038094901390218314\n",
      "term  :  0.0027880246573056496\n",
      "Neg_ammortization  :  0.017286857351569127\n",
      "interest_only  :  0.10946398477208076\n",
      "lump_sum_payment  :  0.18422340173019233\n",
      "property_value  :  0.08855105843545166\n",
      "Region  :  0.11751077345720053\n",
      "dtir1  :  0.11213999594698079\n"
     ]
    },
    {
     "ename": "IndexError",
     "evalue": "index 23 is out of bounds for axis 0 with size 22",
     "output_type": "error",
     "traceback": [
      "\u001b[0;31m---------------------------------------------------------------------------\u001b[0m",
      "\u001b[0;31mIndexError\u001b[0m                                Traceback (most recent call last)",
      "Cell \u001b[0;32mIn[96], line 4\u001b[0m\n\u001b[1;32m      2\u001b[0m \u001b[38;5;28;01mfor\u001b[39;00m i \u001b[38;5;129;01min\u001b[39;00m \u001b[38;5;28mrange\u001b[39m(\u001b[38;5;28mlen\u001b[39m(lasso\u001b[38;5;241m.\u001b[39mcoef_)):\n\u001b[1;32m      3\u001b[0m     \u001b[38;5;28;01mif\u001b[39;00m lasso\u001b[38;5;241m.\u001b[39mcoef_[i] \u001b[38;5;241m!=\u001b[39m \u001b[38;5;241m0\u001b[39m:\n\u001b[0;32m----> 4\u001b[0m         \u001b[38;5;28mprint\u001b[39m(column_names[i], \u001b[38;5;124m'\u001b[39m\u001b[38;5;124m : \u001b[39m\u001b[38;5;124m'\u001b[39m , lasso\u001b[38;5;241m.\u001b[39mcoef_[i])\n",
      "File \u001b[0;32m~/anaconda3/lib/python3.11/site-packages/pandas/core/indexes/base.py:5175\u001b[0m, in \u001b[0;36mIndex.__getitem__\u001b[0;34m(self, key)\u001b[0m\n\u001b[1;32m   5172\u001b[0m \u001b[38;5;28;01mif\u001b[39;00m is_integer(key) \u001b[38;5;129;01mor\u001b[39;00m is_float(key):\n\u001b[1;32m   5173\u001b[0m     \u001b[38;5;66;03m# GH#44051 exclude bool, which would return a 2d ndarray\u001b[39;00m\n\u001b[1;32m   5174\u001b[0m     key \u001b[38;5;241m=\u001b[39m com\u001b[38;5;241m.\u001b[39mcast_scalar_indexer(key)\n\u001b[0;32m-> 5175\u001b[0m     \u001b[38;5;28;01mreturn\u001b[39;00m getitem(key)\n\u001b[1;32m   5177\u001b[0m \u001b[38;5;28;01mif\u001b[39;00m \u001b[38;5;28misinstance\u001b[39m(key, \u001b[38;5;28mslice\u001b[39m):\n\u001b[1;32m   5178\u001b[0m     \u001b[38;5;66;03m# This case is separated from the conditional above to avoid\u001b[39;00m\n\u001b[1;32m   5179\u001b[0m     \u001b[38;5;66;03m# pessimization com.is_bool_indexer and ndim checks.\u001b[39;00m\n\u001b[1;32m   5180\u001b[0m     result \u001b[38;5;241m=\u001b[39m getitem(key)\n",
      "\u001b[0;31mIndexError\u001b[0m: index 23 is out of bounds for axis 0 with size 22"
     ]
    }
   ],
   "source": [
    "print(lasso.coef_)\n",
    "for i in range(len(lasso.coef_)):\n",
    "    if lasso.coef_[i] != 0:\n",
    "        print(column_names[i], ' : ' , lasso.coef_[i])"
   ]
  },
  {
   "cell_type": "code",
   "execution_count": 39,
   "id": "f1cb47be",
   "metadata": {},
   "outputs": [
    {
     "name": "stdout",
     "output_type": "stream",
     "text": [
      "Accuracy\n",
      "+---+---------------------+---------------------+---------------------+\n",
      "|   |          5          |         10          |         15          |\n",
      "+---+---------------------+---------------------+---------------------+\n",
      "| 2 | 0.01173460355026259 | 0.01173460355026259 | 0.01173460355026259 |\n",
      "| 3 | 0.01173460355026259 | 0.01173460355026259 | 0.01173460355026259 |\n",
      "| 4 | 0.01173460355026259 | 0.01173460355026259 | 0.01173460355026259 |\n",
      "+---+---------------------+---------------------+---------------------+\n",
      "Recall\n",
      "+---+--------------------+--------------------+--------------------+\n",
      "|   |         5          |         10         |         15         |\n",
      "+---+--------------------+--------------------+--------------------+\n",
      "| 2 |  0.73918135803016  | 0.752321841027928  | 0.7569837177335482 |\n",
      "| 3 | 0.7809350984725952 | 0.7675223317083185 | 0.8054662980309045 |\n",
      "| 4 | 0.7759153239651717 | 0.8095116473011386 | 0.8044868279899825 |\n",
      "+---+--------------------+--------------------+--------------------+\n",
      "Precision\n",
      "+---+--------------------+--------------------+--------------------+\n",
      "|   |         5          |         10         |         15         |\n",
      "+---+--------------------+--------------------+--------------------+\n",
      "| 2 | 0.7264367042945221 | 0.7519787885187081 | 0.7838483371645111 |\n",
      "| 3 | 0.7272073806637522 | 0.7785961724832353 | 0.7622463357951517 |\n",
      "| 4 | 0.7817366908292678 | 0.7736247893493475 | 0.7819912667532195 |\n",
      "+---+--------------------+--------------------+--------------------+\n"
     ]
    }
   ],
   "source": [
    "print(\"Accuracy\")\n",
    "result = pd.DataFrame(cross_validate_result)\n",
    "print(tabulate(result, headers='keys', tablefmt='pretty'))\n",
    "\n",
    "print(\"Recall\")\n",
    "result = pd.DataFrame(cross_validate_precision)\n",
    "print(tabulate(result, headers='keys', tablefmt='pretty'))\n",
    "\n",
    "print(\"Precision\")\n",
    "result = pd.DataFrame(cross_validate_recall)\n",
    "print(tabulate(result, headers='keys', tablefmt='pretty'))"
   ]
  },
  {
   "cell_type": "code",
   "execution_count": 76,
   "id": "6354c645",
   "metadata": {},
   "outputs": [
    {
     "name": "stdout",
     "output_type": "stream",
     "text": [
      "OLS Model Accuracy :  0.7897376383305011\n",
      "OLS Model Recall :  0.2594744820616473\n",
      "OLS Model Precision :  0.32407699589775957\n",
      "--\n",
      "LASSO score : \n",
      "LASSO Model Recall :  0.32289034866093985\n",
      "LASSO Model Precision :  0.26366824840107284\n",
      "--\n",
      "Ridge Model Recall :  0.2594744820616473\n",
      "Ridge Model Precision :  0.32407699589775957\n"
     ]
    }
   ],
   "source": [
    "# Somehow LASSO is performing worse?\n",
    "ols = linear_model.LinearRegression()\n",
    "ols.fit(X_smote, y_smote)    \n",
    "y_pred = ols.predict(X_OOS_test)\n",
    "# turn the continous value into classification via simple >= 0.5 is 1 \n",
    "y_pred_classification = [1 if x >= 0.5 else 0 for x in y_pred]\n",
    "print(\"OLS Model Accuracy : \" , accuracy_score(y_OOS_test, y_pred_classification))\n",
    "print(\"OLS Model Recall : \" , recall_score(y_OOS_test, y_pred_classification))\n",
    "print(\"OLS Model Precision : \", precision_score(y_OOS_test,y_pred_classification))\n",
    "print(\"--\")\n",
    "\n",
    "# LASSO \n",
    "lasso = linear_model.Lasso(alpha=0.01)\n",
    "lasso.fit(X_smote, y_smote)\n",
    "y_pred = lasso.predict(X_OOS_test)\n",
    "# turn the continous value into classification via simple >= 0.5 is 1 \n",
    "y_pred_classification = [1 if x >= 0.5 else 0 for x in y_pred]\n",
    "print(\"LASSO score : \" , )\n",
    "print(\"LASSO Model Recall : \" , recall_score(y_OOS_test, y_pred_classification))\n",
    "print(\"LASSO Model Precision : \", precision_score(y_OOS_test,y_pred_classification))\n",
    "print(\"--\")\n",
    "\n",
    "# RIDGE\n",
    "ridge = linear_model.Ridge(alpha=1)\n",
    "ridge.fit(X_smote, y_smote)\n",
    "y_pred = ridge.predict(X_OOS_test)\n",
    "# turn the continous value into classification via simple >= 0.5 is 1 \n",
    "y_pred_classification = [1 if x >= 0.5 else 0 for x in y_pred]\n",
    "print(\"Ridge Model Recall : \" , recall_score(y_OOS_test, y_pred_classification))\n",
    "print(\"Ridge Model Precision : \", precision_score(y_OOS_test,y_pred_classification))"
   ]
  },
  {
   "cell_type": "markdown",
   "id": "2ee7c9cb",
   "metadata": {},
   "source": [
    "# OLS cross validation"
   ]
  },
  {
   "cell_type": "code",
   "execution_count": 85,
   "id": "a0ce0a93",
   "metadata": {},
   "outputs": [
    {
     "name": "stdout",
     "output_type": "stream",
     "text": [
      "Training OLS\n",
      "Accuracy:  0.4492234292659226\n",
      "Precision:  0.8770218956562509\n",
      "Recall:  0.7670639219983653\n",
      "\n",
      "------------------\n",
      "Accuracy :  {None: 0.4492234292659226}\n",
      "Precision :  {None: 0.8770218956562509}\n",
      "Recall :  {None: 0.7670639219983653}\n"
     ]
    }
   ],
   "source": [
    "# Cross Validate the OLS regression\n",
    "cross_validate_result = {}\n",
    "cross_validate_recall = {} \n",
    "cross_validate_precision = {} \n",
    "\n",
    "# Set Hyperparameter (None for OLS)\n",
    "hyperparameters = [None]  # OLS doesn't have hyperparameters, so we use None\n",
    "for hyperparameter in hyperparameters:\n",
    "    print('Training OLS')\n",
    "    accuracies = []\n",
    "    recall_scores = [] \n",
    "    precision_scores = [] \n",
    "    ols = LinearRegression()\n",
    "    for train_index, test_index in cv.split(X_smote):\n",
    "        X_cv_train, X_cv_test, y_cv_train, y_cv_test = X_smote.iloc[train_index], X_smote.iloc[test_index], y_smote.iloc[train_index], y_smote.iloc[test_index]\n",
    "        ols.fit(X_cv_train, y_cv_train)\n",
    "        y_pred = ols.predict(X_cv_test)\n",
    "        y_pred_classification = [1 if x >= 0.5 else 0 for x in y_pred]\n",
    "\n",
    "        # Cross-Validation Prediction Error\n",
    "        score = ols.score(X_cv_test, y_cv_test)\n",
    "        accuracies.append(score)\n",
    "        recall_scores.append(recall_score(y_cv_test, y_pred_classification))\n",
    "        precision_scores.append(precision_score(y_cv_test, y_pred_classification))\n",
    "\n",
    "    cross_validate_result[hyperparameter] = (sum(accuracies)/len(accuracies))\n",
    "    cross_validate_recall[hyperparameter] = (sum(recall_scores)/len(recall_scores))\n",
    "    cross_validate_precision[hyperparameter] = (sum(precision_scores)/len(precision_scores))\n",
    "\n",
    "    print(\"Accuracy: \", cross_validate_result[hyperparameter])\n",
    "    print(\"Precision: \", cross_validate_precision[hyperparameter])\n",
    "    print(\"Recall: \", cross_validate_recall[hyperparameter])\n",
    "    print() \n",
    "\n",
    "# At the end you'll see what the value of each OLS parameter is\n",
    "print('------------------')\n",
    "print('Accuracy : ', cross_validate_result)\n",
    "print('Precision : ', cross_validate_precision)\n",
    "print('Recall : ', cross_validate_recall)\n"
   ]
  },
  {
   "cell_type": "markdown",
   "id": "ee6bfcac",
   "metadata": {},
   "source": [
    "# Ridge cross validation"
   ]
  },
  {
   "cell_type": "code",
   "execution_count": 86,
   "id": "3ced56af",
   "metadata": {},
   "outputs": [
    {
     "name": "stdout",
     "output_type": "stream",
     "text": [
      "Training Ridge Alpha value: 0.1\n",
      "Alpha Value Accuracy: 0.4492235064464675\n",
      "Alpha Value Precision: 0.8770218956562509\n",
      "Alpha Value Recall: 0.7670639219983653\n",
      "\n",
      "Training Ridge Alpha value: 1\n",
      "Alpha Value Accuracy: 0.4492240601532093\n",
      "Alpha Value Precision: 0.8769987450795\n",
      "Alpha Value Recall: 0.7670762190962501\n",
      "\n",
      "Training Ridge Alpha value: 10\n",
      "Alpha Value Accuracy: 0.4492248439285049\n",
      "Alpha Value Precision: 0.8768490907432787\n",
      "Alpha Value Recall: 0.7670758140547332\n",
      "\n",
      "------------------\n",
      "Accuracy :  {0.1: 0.4492235064464675, 1: 0.4492240601532093, 10: 0.4492248439285049}\n",
      "Precision :  {0.1: 0.8770218956562509, 1: 0.8769987450795, 10: 0.8768490907432787}\n",
      "Recall :  {0.1: 0.7670639219983653, 1: 0.7670762190962501, 10: 0.7670758140547332}\n",
      "10\n",
      "0.1\n",
      "1\n"
     ]
    }
   ],
   "source": [
    "# Cross Validate the Ridge regression\n",
    "cross_validate_result = {}\n",
    "cross_validate_recall = {} \n",
    "cross_validate_precision = {} \n",
    "\n",
    "# Set Hyperparameter (Alpha) values to cross validate\n",
    "alphas = [0.1, 1, 10]\n",
    "for alpha_value in alphas:\n",
    "    print('Training Ridge Alpha value:', alpha_value)\n",
    "    accuracies = []\n",
    "    recall_scores = [] \n",
    "    precision_scores = [] \n",
    "    ridge = Ridge(alpha=alpha_value)\n",
    "    for train_index, test_index in cv.split(X_smote):\n",
    "        X_cv_train, X_cv_test, y_cv_train, y_cv_test = X_smote.iloc[train_index], X_smote.iloc[test_index], y_smote.iloc[train_index], y_smote.iloc[test_index]\n",
    "        ridge.fit(X_cv_train, y_cv_train)\n",
    "        y_pred = ridge.predict(X_cv_test)\n",
    "        y_pred_classification = [1 if x >= 0.5 else 0 for x in y_pred]\n",
    "\n",
    "        # Cross-Validation Prediction Error\n",
    "        score = ridge.score(X_cv_test, y_cv_test)\n",
    "        accuracies.append(score)\n",
    "        recall_scores.append(recall_score(y_cv_test, y_pred_classification))\n",
    "        precision_scores.append(precision_score(y_cv_test, y_pred_classification))\n",
    "\n",
    "    cross_validate_result[alpha_value] = (sum(accuracies)/len(accuracies))\n",
    "    cross_validate_recall[alpha_value] = (sum(recall_scores)/len(recall_scores))\n",
    "    cross_validate_precision[alpha_value] = (sum(precision_scores)/len(precision_scores))\n",
    "\n",
    "    print(\"Alpha Value Accuracy:\", cross_validate_result[alpha_value])\n",
    "    print(\"Alpha Value Precision:\", cross_validate_precision[alpha_value])\n",
    "    print(\"Alpha Value Recall:\", cross_validate_recall[alpha_value])\n",
    "    print() \n",
    "\n",
    "# At the end you'll see what the value of each Ridge parameter is\n",
    "print('------------------')\n",
    "print('Accuracy : ', cross_validate_result)\n",
    "print('Precision : ', cross_validate_precision)\n",
    "print('Recall : ', cross_validate_recall)\n",
    "print(max(cross_validate_result, key=cross_validate_result.get))\n",
    "print(max(cross_validate_precision, key=cross_validate_precision.get))\n",
    "print(max(cross_validate_recall, key=cross_validate_recall.get))"
   ]
  },
  {
   "cell_type": "markdown",
   "id": "db593d24",
   "metadata": {},
   "source": [
    "# Cross Validate LASSO, OLS, and Ridge"
   ]
  },
  {
   "cell_type": "code",
   "execution_count": 90,
   "id": "8eedf45e",
   "metadata": {},
   "outputs": [
    {
     "name": "stdout",
     "output_type": "stream",
     "text": [
      "Training LASSO\n",
      "LASSO with Hyperparameter: 0.01\n",
      "LASSO Accuracy: 0.38834371860427935\n",
      "LASSO Precision: 0.8130769483463176\n",
      "LASSO Recall: 0.7797380844218446\n",
      "\n",
      "Training OLS\n",
      "OLS with Hyperparameter: None\n",
      "OLS Accuracy: 0.4492234292659226\n",
      "OLS Precision: 0.8770218956562509\n",
      "OLS Recall: 0.7670639219983653\n",
      "\n",
      "Training Ridge\n",
      "Ridge with Hyperparameter: 1\n",
      "Ridge Accuracy: 0.4492240601532093\n",
      "Ridge Precision: 0.8769987450795\n",
      "Ridge Recall: 0.7670762190962501\n",
      "\n",
      "------------------\n",
      "Accuracy : {'LASSO': {0.01: 0.38834371860427935}, 'OLS': {None: 0.4492234292659226}, 'Ridge': {1: 0.4492240601532093}}\n",
      "Precision : {'LASSO': {0.01: 0.8130769483463176}, 'OLS': {None: 0.8770218956562509}, 'Ridge': {1: 0.8769987450795}}\n",
      "Recall : {'LASSO': {0.01: 0.7797380844218446}, 'OLS': {None: 0.7670639219983653}, 'Ridge': {1: 0.7670762190962501}}\n"
     ]
    }
   ],
   "source": [
    "# Cross Validate LASSO, OLS, and Ridge\n",
    "models = {\n",
    "    \"LASSO\": Lasso,\n",
    "    \"OLS\": LinearRegression,\n",
    "    \"Ridge\": Ridge\n",
    "}\n",
    "\n",
    "# Set hyperparameters for LASSO and Ridge\n",
    "lasso_alphas = [0.01]\n",
    "ridge_alphas = [1]\n",
    "\n",
    "# Store cross-validation results\n",
    "cross_validate_results = {model_name: {} for model_name in models.keys()}\n",
    "cross_validate_recalls = {model_name: {} for model_name in models.keys()}\n",
    "cross_validate_precisions = {model_name: {} for model_name in models.keys()}\n",
    "\n",
    "for model_name, model_class in models.items():\n",
    "    print(f\"Training {model_name}\")\n",
    "    hyperparameters = lasso_alphas if model_name == \"LASSO\" else ridge_alphas if model_name == \"Ridge\" else [None]\n",
    "    for hyperparameter in hyperparameters:\n",
    "        print(f\"{model_name} with Hyperparameter: {hyperparameter}\")\n",
    "        accuracies = []\n",
    "        recall_scores = []\n",
    "        precision_scores = []\n",
    "        model = model_class(alpha=hyperparameter) if hyperparameter is not None else model_class()\n",
    "        for train_index, test_index in cv.split(X_smote):\n",
    "            X_cv_train, X_cv_test, y_cv_train, y_cv_test = X_smote.iloc[train_index], X_smote.iloc[test_index], y_smote.iloc[train_index], y_smote.iloc[test_index]\n",
    "            model.fit(X_cv_train, y_cv_train)\n",
    "            y_pred = model.predict(X_cv_test)\n",
    "            y_pred_classification = [1 if x >= 0.5 else 0 for x in y_pred]\n",
    "\n",
    "            # Cross-Validation Prediction Error\n",
    "            score = model.score(X_cv_test, y_cv_test)\n",
    "            accuracies.append(score)\n",
    "            recall_scores.append(recall_score(y_cv_test, y_pred_classification))\n",
    "            precision_scores.append(precision_score(y_cv_test, y_pred_classification))\n",
    "\n",
    "        cross_validate_results[model_name][hyperparameter] = (sum(accuracies) / len(accuracies))\n",
    "        cross_validate_recalls[model_name][hyperparameter] = (sum(recall_scores) / len(recall_scores))\n",
    "        cross_validate_precisions[model_name][hyperparameter] = (sum(precision_scores) / len(precision_scores))\n",
    "\n",
    "        print(f\"{model_name} Accuracy: {cross_validate_results[model_name][hyperparameter]}\")\n",
    "        print(f\"{model_name} Precision: {cross_validate_precisions[model_name][hyperparameter]}\")\n",
    "        print(f\"{model_name} Recall: {cross_validate_recalls[model_name][hyperparameter]}\")\n",
    "        print()\n",
    "\n",
    "print('------------------')\n",
    "print('Accuracy :', cross_validate_results)\n",
    "print('Precision :', cross_validate_precisions)\n",
    "print('Recall :', cross_validate_recalls)\n"
   ]
  },
  {
   "cell_type": "markdown",
   "id": "2e6ea904",
   "metadata": {},
   "source": [
    "## Cross Validate value of LASSO "
   ]
  },
  {
   "cell_type": "code",
   "execution_count": 120,
   "id": "82b5cc33",
   "metadata": {},
   "outputs": [
    {
     "data": {
      "text/html": [
       "<style>#sk-container-id-1 {color: black;background-color: white;}#sk-container-id-1 pre{padding: 0;}#sk-container-id-1 div.sk-toggleable {background-color: white;}#sk-container-id-1 label.sk-toggleable__label {cursor: pointer;display: block;width: 100%;margin-bottom: 0;padding: 0.3em;box-sizing: border-box;text-align: center;}#sk-container-id-1 label.sk-toggleable__label-arrow:before {content: \"▸\";float: left;margin-right: 0.25em;color: #696969;}#sk-container-id-1 label.sk-toggleable__label-arrow:hover:before {color: black;}#sk-container-id-1 div.sk-estimator:hover label.sk-toggleable__label-arrow:before {color: black;}#sk-container-id-1 div.sk-toggleable__content {max-height: 0;max-width: 0;overflow: hidden;text-align: left;background-color: #f0f8ff;}#sk-container-id-1 div.sk-toggleable__content pre {margin: 0.2em;color: black;border-radius: 0.25em;background-color: #f0f8ff;}#sk-container-id-1 input.sk-toggleable__control:checked~div.sk-toggleable__content {max-height: 200px;max-width: 100%;overflow: auto;}#sk-container-id-1 input.sk-toggleable__control:checked~label.sk-toggleable__label-arrow:before {content: \"▾\";}#sk-container-id-1 div.sk-estimator input.sk-toggleable__control:checked~label.sk-toggleable__label {background-color: #d4ebff;}#sk-container-id-1 div.sk-label input.sk-toggleable__control:checked~label.sk-toggleable__label {background-color: #d4ebff;}#sk-container-id-1 input.sk-hidden--visually {border: 0;clip: rect(1px 1px 1px 1px);clip: rect(1px, 1px, 1px, 1px);height: 1px;margin: -1px;overflow: hidden;padding: 0;position: absolute;width: 1px;}#sk-container-id-1 div.sk-estimator {font-family: monospace;background-color: #f0f8ff;border: 1px dotted black;border-radius: 0.25em;box-sizing: border-box;margin-bottom: 0.5em;}#sk-container-id-1 div.sk-estimator:hover {background-color: #d4ebff;}#sk-container-id-1 div.sk-parallel-item::after {content: \"\";width: 100%;border-bottom: 1px solid gray;flex-grow: 1;}#sk-container-id-1 div.sk-label:hover label.sk-toggleable__label {background-color: #d4ebff;}#sk-container-id-1 div.sk-serial::before {content: \"\";position: absolute;border-left: 1px solid gray;box-sizing: border-box;top: 0;bottom: 0;left: 50%;z-index: 0;}#sk-container-id-1 div.sk-serial {display: flex;flex-direction: column;align-items: center;background-color: white;padding-right: 0.2em;padding-left: 0.2em;position: relative;}#sk-container-id-1 div.sk-item {position: relative;z-index: 1;}#sk-container-id-1 div.sk-parallel {display: flex;align-items: stretch;justify-content: center;background-color: white;position: relative;}#sk-container-id-1 div.sk-item::before, #sk-container-id-1 div.sk-parallel-item::before {content: \"\";position: absolute;border-left: 1px solid gray;box-sizing: border-box;top: 0;bottom: 0;left: 50%;z-index: -1;}#sk-container-id-1 div.sk-parallel-item {display: flex;flex-direction: column;z-index: 1;position: relative;background-color: white;}#sk-container-id-1 div.sk-parallel-item:first-child::after {align-self: flex-end;width: 50%;}#sk-container-id-1 div.sk-parallel-item:last-child::after {align-self: flex-start;width: 50%;}#sk-container-id-1 div.sk-parallel-item:only-child::after {width: 0;}#sk-container-id-1 div.sk-dashed-wrapped {border: 1px dashed gray;margin: 0 0.4em 0.5em 0.4em;box-sizing: border-box;padding-bottom: 0.4em;background-color: white;}#sk-container-id-1 div.sk-label label {font-family: monospace;font-weight: bold;display: inline-block;line-height: 1.2em;}#sk-container-id-1 div.sk-label-container {text-align: center;}#sk-container-id-1 div.sk-container {/* jupyter's `normalize.less` sets `[hidden] { display: none; }` but bootstrap.min.css set `[hidden] { display: none !important; }` so we also need the `!important` here to be able to override the default hidden behavior on the sphinx rendered scikit-learn.org. See: https://github.com/scikit-learn/scikit-learn/issues/21755 */display: inline-block !important;position: relative;}#sk-container-id-1 div.sk-text-repr-fallback {display: none;}</style><div id=\"sk-container-id-1\" class=\"sk-top-container\"><div class=\"sk-text-repr-fallback\"><pre>GridSearchCV(cv=KFold(n_splits=5, random_state=809, shuffle=True),\n",
       "             estimator=Lasso(), n_jobs=-1, param_grid=[{&#x27;alpha&#x27;: [0.01, 0.1]}])</pre><b>In a Jupyter environment, please rerun this cell to show the HTML representation or trust the notebook. <br />On GitHub, the HTML representation is unable to render, please try loading this page with nbviewer.org.</b></div><div class=\"sk-container\" hidden><div class=\"sk-item sk-dashed-wrapped\"><div class=\"sk-label-container\"><div class=\"sk-label sk-toggleable\"><input class=\"sk-toggleable__control sk-hidden--visually\" id=\"sk-estimator-id-1\" type=\"checkbox\" ><label for=\"sk-estimator-id-1\" class=\"sk-toggleable__label sk-toggleable__label-arrow\">GridSearchCV</label><div class=\"sk-toggleable__content\"><pre>GridSearchCV(cv=KFold(n_splits=5, random_state=809, shuffle=True),\n",
       "             estimator=Lasso(), n_jobs=-1, param_grid=[{&#x27;alpha&#x27;: [0.01, 0.1]}])</pre></div></div></div><div class=\"sk-parallel\"><div class=\"sk-parallel-item\"><div class=\"sk-item\"><div class=\"sk-label-container\"><div class=\"sk-label sk-toggleable\"><input class=\"sk-toggleable__control sk-hidden--visually\" id=\"sk-estimator-id-2\" type=\"checkbox\" ><label for=\"sk-estimator-id-2\" class=\"sk-toggleable__label sk-toggleable__label-arrow\">estimator: Lasso</label><div class=\"sk-toggleable__content\"><pre>Lasso()</pre></div></div></div><div class=\"sk-serial\"><div class=\"sk-item\"><div class=\"sk-estimator sk-toggleable\"><input class=\"sk-toggleable__control sk-hidden--visually\" id=\"sk-estimator-id-3\" type=\"checkbox\" ><label for=\"sk-estimator-id-3\" class=\"sk-toggleable__label sk-toggleable__label-arrow\">Lasso</label><div class=\"sk-toggleable__content\"><pre>Lasso()</pre></div></div></div></div></div></div></div></div></div></div>"
      ],
      "text/plain": [
       "GridSearchCV(cv=KFold(n_splits=5, random_state=809, shuffle=True),\n",
       "             estimator=Lasso(), n_jobs=-1, param_grid=[{'alpha': [0.01, 0.1]}])"
      ]
     },
     "execution_count": 120,
     "metadata": {},
     "output_type": "execute_result"
    }
   ],
   "source": [
    "lasso = linear_model.Lasso()\n",
    "param_grid = [{'alpha': [0.01, 0.1]}]\n",
    "grid_cv = GridSearchCV(estimator=lasso, cv=cv, param_grid=param_grid, n_jobs = -1)\n",
    "grid_cv.fit(X_smote, y_smote)"
   ]
  },
  {
   "cell_type": "code",
   "execution_count": 121,
   "id": "f543b1cc",
   "metadata": {},
   "outputs": [
    {
     "name": "stdout",
     "output_type": "stream",
     "text": [
      "Lasso(alpha=0.01)\n"
     ]
    }
   ],
   "source": [
    "print(grid_cv.best_estimator_)\n"
   ]
  },
  {
   "cell_type": "markdown",
   "id": "7449ac5f",
   "metadata": {},
   "source": [
    "# Random Forest"
   ]
  },
  {
   "cell_type": "code",
   "execution_count": 115,
   "id": "ee4cb0fe",
   "metadata": {},
   "outputs": [
    {
     "name": "stdout",
     "output_type": "stream",
     "text": [
      "RND Forest Model Recall :  0.4845881758463871\n",
      "RND Forest Precision :  0.2371414441147379\n"
     ]
    }
   ],
   "source": [
    "\n",
    "random_forest = RandomForestClassifier(n_estimators = 50, max_depth=2, random_state=0)\n",
    "random_forest.fit(X_smote, y_smote)\n",
    "\n",
    "y_pred = random_forest.predict(X_OOS_test)\n",
    "print(\"RND Forest Model Recall : \" , recall_score(y_OOS_test, y_pred))\n",
    "print(\"RND Forest Precision : \", precision_score(y_OOS_test,y_pred))"
   ]
  },
  {
   "cell_type": "code",
   "execution_count": null,
   "id": "c1d6112d",
   "metadata": {},
   "outputs": [],
   "source": [
    "# Cross Validate Random Forest\n",
    "param_grid = [{'n_estimators': [200,225,250], 'max_depth' :[10,20,30]}]\n",
    "random_forest_cv = RandomForestClassifier()\n",
    "grid_cv = GridSearchCV(estimator=random_forest_cv, cv=cv, param_grid=param_grid, n_jobs = 3)\n",
    "grid_cv.fit(X_smote, y_smote)"
   ]
  },
  {
   "cell_type": "code",
   "execution_count": 117,
   "id": "8a96202c",
   "metadata": {},
   "outputs": [],
   "source": [
    "def create_dictionary(param_1,param_2):\n",
    "    result_dictionary = {} \n",
    "    for i in param_1: \n",
    "        result_dictionary[i] = {} \n",
    "        for j in param_2: \n",
    "                result_dictionary[i][j] = {} \n",
    "    return result_dictionary\n"
   ]
  },
  {
   "cell_type": "markdown",
   "id": "1e766132",
   "metadata": {},
   "source": [
    "### Random Forest Cross Validation"
   ]
  },
  {
   "cell_type": "code",
   "execution_count": 118,
   "id": "32cc6398",
   "metadata": {},
   "outputs": [
    {
     "name": "stdout",
     "output_type": "stream",
     "text": [
      "Depth of Tree :  2  Number of Trees  5\n",
      "Accuracy : 0.7178779250767536\n",
      "Precision : 0.7195822305120425\n",
      "Recall : 0.7176625283855023\n",
      "\n",
      "Depth of Tree :  3  Number of Trees  5\n",
      "Accuracy : 0.7161639342933006\n",
      "Precision : 0.7566840705597171\n",
      "Recall : 0.7019626288574008\n",
      "\n",
      "Depth of Tree :  4  Number of Trees  5\n",
      "Accuracy : 0.7497555726596339\n",
      "Precision : 0.7477215243091407\n",
      "Recall : 0.7526913553365555\n",
      "\n",
      "Depth of Tree :  2  Number of Trees  10\n",
      "Accuracy : 0.721658433586555\n",
      "Precision : 0.756313857556464\n",
      "Recall : 0.7078328096932356\n",
      "\n",
      "Depth of Tree :  3  Number of Trees  10\n",
      "Accuracy : 0.720099347531054\n",
      "Precision : 0.7365067205444563\n",
      "Recall : 0.7135500560408748\n",
      "\n",
      "Depth of Tree :  4  Number of Trees  10\n",
      "Accuracy : 0.7614683024274956\n",
      "Precision : 0.7681283361973957\n",
      "Recall : 0.7603974949656152\n",
      "\n",
      "Depth of Tree :  2  Number of Trees  15\n",
      "Accuracy : 0.7197650991504233\n",
      "Precision : 0.7396758468555419\n",
      "Recall : 0.7115693205926238\n",
      "\n",
      "Depth of Tree :  3  Number of Trees  15\n",
      "Accuracy : 0.7419843138894681\n",
      "Precision : 0.7713740394152266\n",
      "Recall : 0.7288632558895012\n",
      "\n",
      "Depth of Tree :  4  Number of Trees  15\n",
      "Accuracy : 0.7493286713326336\n",
      "Precision : 0.7780634323700499\n",
      "Recall : 0.735925197045665\n",
      "\n",
      "------------------\n",
      "Accuracy :  {5: {2: 0.7178779250767536, 3: 0.7161639342933006, 4: 0.7497555726596339}, 10: {2: 0.721658433586555, 3: 0.720099347531054, 4: 0.7614683024274956}, 15: {2: 0.7197650991504233, 3: 0.7419843138894681, 4: 0.7493286713326336}}\n",
      "Precision :  {5: {2: 0.7176625283855023, 3: 0.7019626288574008, 4: 0.7526913553365555}, 10: {2: 0.7078328096932356, 3: 0.7135500560408748, 4: 0.7603974949656152}, 15: {2: 0.7115693205926238, 3: 0.7288632558895012, 4: 0.735925197045665}}\n",
      "Recall :  {5: {2: 0.7195822305120425, 3: 0.7566840705597171, 4: 0.7477215243091407}, 10: {2: 0.756313857556464, 3: 0.7365067205444563, 4: 0.7681283361973957}, 15: {2: 0.7396758468555419, 3: 0.7713740394152266, 4: 0.7780634323700499}}\n"
     ]
    }
   ],
   "source": [
    "# CV in Trees  \n",
    "# Set Hyperparameter (Lambda) values to cross validate here !!!!! \n",
    "max_depth = [2, 3, 4]\n",
    "number_of_trees = [5,10,15] \n",
    "\n",
    "cross_validate_result = create_dictionary(number_of_trees,max_depth)\n",
    "cross_validate_recall = create_dictionary(number_of_trees,max_depth)\n",
    "cross_validate_precision = create_dictionary(number_of_trees,max_depth) \n",
    "\n",
    "for tree in number_of_trees: \n",
    "    for depth in max_depth:\n",
    "        print('Depth of Tree : ', depth, ' Number of Trees ', tree)\n",
    "        accuracies = []\n",
    "        recall_scores = [] \n",
    "        precision_scores = [] \n",
    "        random_forest_cv = RandomForestClassifier(n_estimators = tree, max_depth=depth)\n",
    "        for train_index, test_index in cv.split(X_smote):\n",
    "            # change to loc to define the rows in the dataframe \n",
    "            X_cv_train, X_cv_test, y_cv_train, y_cv_test = X_smote.iloc[train_index], X_smote.iloc[test_index], y_smote.iloc[train_index], y_smote.iloc[test_index]\n",
    "            random_forest_cv.fit(X_cv_train, y_cv_train)\n",
    "            y_pred = random_forest_cv.predict(X_cv_test)\n",
    "\n",
    "            #Cross-Validation Prediction Error\n",
    "            score = random_forest_cv.score(X_cv_test, y_cv_test)\n",
    "            accuracies.append(score)\n",
    "            recall_scores.append(recall_score(y_cv_test, y_pred))\n",
    "            precision_scores.append(precision_score(y_cv_test,y_pred))\n",
    "        \n",
    "        cross_validate_result[tree][depth] = (sum(accuracies)/len(accuracies))\n",
    "        cross_validate_recall[tree][depth] = (sum(recall_scores)/len(recall_scores))\n",
    "        cross_validate_precision[tree][depth] = (sum(precision_scores)/len(precision_scores))\n",
    "\n",
    "        print(\"Accuracy : \" + str((sum(accuracies)/len(accuracies))))\n",
    "        print(\"Precision : \" + str((sum(recall_scores)/len(recall_scores))))\n",
    "        print(\"Recall : \" + str((sum(precision_scores)/len(precision_scores))))\n",
    "        print() \n",
    "# At the end you'll see what the value of each LASSO paramter is\n",
    "print('------------------')\n",
    "print('Accuracy : ', cross_validate_result)\n",
    "print('Precision : ',cross_validate_precision)\n",
    "print('Recall : ',cross_validate_recall)"
   ]
  },
  {
   "cell_type": "markdown",
   "id": "032dd257",
   "metadata": {},
   "source": [
    "## KNN "
   ]
  },
  {
   "cell_type": "code",
   "execution_count": 22,
   "id": "b079225a",
   "metadata": {},
   "outputs": [
    {
     "name": "stdout",
     "output_type": "stream",
     "text": [
      "KNN Accuracy :  0.6375430016164463\n",
      "KNN Recall :  0.4373420919656392\n",
      "KNN Precision :  0.20984361740817067\n"
     ]
    }
   ],
   "source": [
    "knn = KNeighborsClassifier(n_neighbors=5)\n",
    "knn.fit(X_smote, y_smote)\n",
    "# Make predictions on the test data\n",
    "y_pred = knn.predict(X_OOS_test)\n",
    "# Evaluate the accuracy of the classifier\n",
    "print(\"KNN Accuracy : \" , accuracy_score(y_OOS_test, y_pred))\n",
    "print(\"KNN Recall : \" , recall_score(y_OOS_test, y_pred))\n",
    "print(\"KNN Precision : \", precision_score(y_OOS_test,y_pred))"
   ]
  },
  {
   "cell_type": "code",
   "execution_count": 18,
   "id": "3b9be3f6",
   "metadata": {},
   "outputs": [
    {
     "data": {
      "text/html": [
       "<style>#sk-container-id-1 {color: black;background-color: white;}#sk-container-id-1 pre{padding: 0;}#sk-container-id-1 div.sk-toggleable {background-color: white;}#sk-container-id-1 label.sk-toggleable__label {cursor: pointer;display: block;width: 100%;margin-bottom: 0;padding: 0.3em;box-sizing: border-box;text-align: center;}#sk-container-id-1 label.sk-toggleable__label-arrow:before {content: \"▸\";float: left;margin-right: 0.25em;color: #696969;}#sk-container-id-1 label.sk-toggleable__label-arrow:hover:before {color: black;}#sk-container-id-1 div.sk-estimator:hover label.sk-toggleable__label-arrow:before {color: black;}#sk-container-id-1 div.sk-toggleable__content {max-height: 0;max-width: 0;overflow: hidden;text-align: left;background-color: #f0f8ff;}#sk-container-id-1 div.sk-toggleable__content pre {margin: 0.2em;color: black;border-radius: 0.25em;background-color: #f0f8ff;}#sk-container-id-1 input.sk-toggleable__control:checked~div.sk-toggleable__content {max-height: 200px;max-width: 100%;overflow: auto;}#sk-container-id-1 input.sk-toggleable__control:checked~label.sk-toggleable__label-arrow:before {content: \"▾\";}#sk-container-id-1 div.sk-estimator input.sk-toggleable__control:checked~label.sk-toggleable__label {background-color: #d4ebff;}#sk-container-id-1 div.sk-label input.sk-toggleable__control:checked~label.sk-toggleable__label {background-color: #d4ebff;}#sk-container-id-1 input.sk-hidden--visually {border: 0;clip: rect(1px 1px 1px 1px);clip: rect(1px, 1px, 1px, 1px);height: 1px;margin: -1px;overflow: hidden;padding: 0;position: absolute;width: 1px;}#sk-container-id-1 div.sk-estimator {font-family: monospace;background-color: #f0f8ff;border: 1px dotted black;border-radius: 0.25em;box-sizing: border-box;margin-bottom: 0.5em;}#sk-container-id-1 div.sk-estimator:hover {background-color: #d4ebff;}#sk-container-id-1 div.sk-parallel-item::after {content: \"\";width: 100%;border-bottom: 1px solid gray;flex-grow: 1;}#sk-container-id-1 div.sk-label:hover label.sk-toggleable__label {background-color: #d4ebff;}#sk-container-id-1 div.sk-serial::before {content: \"\";position: absolute;border-left: 1px solid gray;box-sizing: border-box;top: 0;bottom: 0;left: 50%;z-index: 0;}#sk-container-id-1 div.sk-serial {display: flex;flex-direction: column;align-items: center;background-color: white;padding-right: 0.2em;padding-left: 0.2em;position: relative;}#sk-container-id-1 div.sk-item {position: relative;z-index: 1;}#sk-container-id-1 div.sk-parallel {display: flex;align-items: stretch;justify-content: center;background-color: white;position: relative;}#sk-container-id-1 div.sk-item::before, #sk-container-id-1 div.sk-parallel-item::before {content: \"\";position: absolute;border-left: 1px solid gray;box-sizing: border-box;top: 0;bottom: 0;left: 50%;z-index: -1;}#sk-container-id-1 div.sk-parallel-item {display: flex;flex-direction: column;z-index: 1;position: relative;background-color: white;}#sk-container-id-1 div.sk-parallel-item:first-child::after {align-self: flex-end;width: 50%;}#sk-container-id-1 div.sk-parallel-item:last-child::after {align-self: flex-start;width: 50%;}#sk-container-id-1 div.sk-parallel-item:only-child::after {width: 0;}#sk-container-id-1 div.sk-dashed-wrapped {border: 1px dashed gray;margin: 0 0.4em 0.5em 0.4em;box-sizing: border-box;padding-bottom: 0.4em;background-color: white;}#sk-container-id-1 div.sk-label label {font-family: monospace;font-weight: bold;display: inline-block;line-height: 1.2em;}#sk-container-id-1 div.sk-label-container {text-align: center;}#sk-container-id-1 div.sk-container {/* jupyter's `normalize.less` sets `[hidden] { display: none; }` but bootstrap.min.css set `[hidden] { display: none !important; }` so we also need the `!important` here to be able to override the default hidden behavior on the sphinx rendered scikit-learn.org. See: https://github.com/scikit-learn/scikit-learn/issues/21755 */display: inline-block !important;position: relative;}#sk-container-id-1 div.sk-text-repr-fallback {display: none;}</style><div id=\"sk-container-id-1\" class=\"sk-top-container\"><div class=\"sk-text-repr-fallback\"><pre>GridSearchCV(cv=KFold(n_splits=5, random_state=809, shuffle=True),\n",
       "             estimator=KNeighborsClassifier(), n_jobs=3,\n",
       "             param_grid=[{&#x27;n_neighbors&#x27;: [1, 2, 5, 10, 20]}])</pre><b>In a Jupyter environment, please rerun this cell to show the HTML representation or trust the notebook. <br />On GitHub, the HTML representation is unable to render, please try loading this page with nbviewer.org.</b></div><div class=\"sk-container\" hidden><div class=\"sk-item sk-dashed-wrapped\"><div class=\"sk-label-container\"><div class=\"sk-label sk-toggleable\"><input class=\"sk-toggleable__control sk-hidden--visually\" id=\"sk-estimator-id-1\" type=\"checkbox\" ><label for=\"sk-estimator-id-1\" class=\"sk-toggleable__label sk-toggleable__label-arrow\">GridSearchCV</label><div class=\"sk-toggleable__content\"><pre>GridSearchCV(cv=KFold(n_splits=5, random_state=809, shuffle=True),\n",
       "             estimator=KNeighborsClassifier(), n_jobs=3,\n",
       "             param_grid=[{&#x27;n_neighbors&#x27;: [1, 2, 5, 10, 20]}])</pre></div></div></div><div class=\"sk-parallel\"><div class=\"sk-parallel-item\"><div class=\"sk-item\"><div class=\"sk-label-container\"><div class=\"sk-label sk-toggleable\"><input class=\"sk-toggleable__control sk-hidden--visually\" id=\"sk-estimator-id-2\" type=\"checkbox\" ><label for=\"sk-estimator-id-2\" class=\"sk-toggleable__label sk-toggleable__label-arrow\">estimator: KNeighborsClassifier</label><div class=\"sk-toggleable__content\"><pre>KNeighborsClassifier()</pre></div></div></div><div class=\"sk-serial\"><div class=\"sk-item\"><div class=\"sk-estimator sk-toggleable\"><input class=\"sk-toggleable__control sk-hidden--visually\" id=\"sk-estimator-id-3\" type=\"checkbox\" ><label for=\"sk-estimator-id-3\" class=\"sk-toggleable__label sk-toggleable__label-arrow\">KNeighborsClassifier</label><div class=\"sk-toggleable__content\"><pre>KNeighborsClassifier()</pre></div></div></div></div></div></div></div></div></div></div>"
      ],
      "text/plain": [
       "GridSearchCV(cv=KFold(n_splits=5, random_state=809, shuffle=True),\n",
       "             estimator=KNeighborsClassifier(), n_jobs=3,\n",
       "             param_grid=[{'n_neighbors': [1, 2, 5, 10, 20]}])"
      ]
     },
     "execution_count": 18,
     "metadata": {},
     "output_type": "execute_result"
    }
   ],
   "source": [
    "# KNN cross validation\n",
    "knn = KNeighborsClassifier()\n",
    "param_grid = [{'n_neighbors': [1,2,5,10,20]}]\n",
    "grid_cv = GridSearchCV(estimator=knn, cv=cv, param_grid=param_grid, n_jobs = 3)\n",
    "grid_cv.fit(X_smote, y_smote)"
   ]
  },
  {
   "cell_type": "code",
   "execution_count": 42,
   "id": "78db3fff",
   "metadata": {},
   "outputs": [
    {
     "name": "stdout",
     "output_type": "stream",
     "text": [
      "Number of Neighbours :  1\n",
      "Accuracy : 0.7491306930716343\n",
      "Precision : 0.7913814929899982\n",
      "Recall : 0.7297182708745649\n",
      "\n",
      "Number of Neighbours :  2\n",
      "Accuracy : 0.7208912490896946\n",
      "Precision : 0.6143489063987174\n",
      "Recall : 0.7807035859110011\n",
      "\n",
      "Number of Neighbours :  3\n",
      "Accuracy : 0.7284461019183828\n",
      "Precision : 0.7750719833779053\n",
      "Recall : 0.7089621936913701\n",
      "\n",
      "------------------\n",
      "Accuracy :  {1: 0.7491306930716343, 2: 0.7208912490896946, 3: 0.7284461019183828}\n",
      "Precision :  {1: 0.7297182708745649, 2: 0.7807035859110011, 3: 0.7089621936913701}\n",
      "Recall :  {1: 0.7913814929899982, 2: 0.6143489063987174, 3: 0.7750719833779053}\n"
     ]
    }
   ],
   "source": [
    "# CV in Trees \n",
    "# Set Hyperparameter (Lambda) values to cross validate here !!!!!\n",
    "number_of_neighbours = [1,2,3] \n",
    "\n",
    "cross_validate_result = {}\n",
    "cross_validate_recall = {} \n",
    "cross_validate_precision = {} \n",
    "\n",
    "for neighbour in number_of_neighbours: \n",
    "    print('Number of Neighbours : ', neighbour)\n",
    "    accuracies = []\n",
    "    recall_scores = [] \n",
    "    precision_scores = [] \n",
    "    knn = KNeighborsClassifier(n_neighbors=neighbour)\n",
    "    for train_index, test_index in cv.split(X_smote):\n",
    "        # change to loc to define the rows in the dataframe \n",
    "        X_cv_train, X_cv_test, y_cv_train, y_cv_test = X_smote.iloc[train_index], X_smote.iloc[test_index], y_smote.iloc[train_index], y_smote.iloc[test_index]\n",
    "        knn.fit(X_cv_train, y_cv_train)\n",
    "        y_pred = knn.predict(X_cv_test)\n",
    "\n",
    "        #Cross-Validation Prediction Error\n",
    "        score = knn.score(X_cv_test, y_cv_test)\n",
    "        accuracies.append(score)\n",
    "        recall_scores.append(recall_score(y_cv_test, y_pred))\n",
    "        precision_scores.append(precision_score(y_cv_test,y_pred))\n",
    "    \n",
    "    cross_validate_result[neighbour] = (sum(accuracies)/len(accuracies))\n",
    "    cross_validate_recall[neighbour] = (sum(recall_scores)/len(recall_scores))\n",
    "    cross_validate_precision[neighbour] = (sum(precision_scores)/len(precision_scores))\n",
    "\n",
    "    print(\"Accuracy : \" + str((sum(accuracies)/len(accuracies))))\n",
    "    print(\"Precision : \" + str((sum(recall_scores)/len(recall_scores))))\n",
    "    print(\"Recall : \" + str((sum(precision_scores)/len(precision_scores))))\n",
    "    print() \n",
    "# At the end you'll see what the value of each LASSO paramter is\n",
    "print('------------------')\n",
    "print('Accuracy : ', cross_validate_result)\n",
    "print('Precision : ',cross_validate_precision)\n",
    "print('Recall : ',cross_validate_recall)"
   ]
  },
  {
   "cell_type": "markdown",
   "id": "fb067bd1",
   "metadata": {},
   "source": [
    "# LASSO and Random Forest"
   ]
  },
  {
   "cell_type": "code",
   "execution_count": null,
   "id": "bdcf95c9",
   "metadata": {},
   "outputs": [],
   "source": [
    "# LASSO \n",
    "lasso = linear_model.Lasso()\n",
    "lasso.fit(X_smote, y_smote)\n",
    "y_pred = lasso.predict(X_OOS_test)\n",
    "# turn the continous value into classification via simple >= 0.5 is 1 \n",
    "y_pred_classification = [1 if x >= 0.5 else 0 for x in y_pred]\n",
    "print(\"LASSO score : \" , )\n",
    "print(\"LASSO Model Recall : \" , recall_score(y_OOS_test, y_pred_classification))\n",
    "print(\"LASSO Model Precision : \", precision_score(y_OOS_test,y_pred_classification))\n",
    "print(\"--\")"
   ]
  }
 ],
 "metadata": {
  "kernelspec": {
   "display_name": "Python 3 (ipykernel)",
   "language": "python",
   "name": "python3"
  },
  "language_info": {
   "codemirror_mode": {
    "name": "ipython",
    "version": 3
   },
   "file_extension": ".py",
   "mimetype": "text/x-python",
   "name": "python",
   "nbconvert_exporter": "python",
   "pygments_lexer": "ipython3",
   "version": "3.11.5"
  }
 },
 "nbformat": 4,
 "nbformat_minor": 5
}
